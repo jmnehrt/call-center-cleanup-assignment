{
 "cells": [
  {
   "cell_type": "markdown",
   "id": "331a1c4f",
   "metadata": {},
   "source": [
    "# Call Center Cleanup\n",
    "\n",
    "For this assignment, we will be working with call center data. You can start working on the assignment after the first lesson on Exploratory Data Analysis with pandas. Make sure to read the whole assignment before starting anything! As you code along in the Jupyter notebook, you are asked to make note of the results of your analysis. Do so by clicking on the results box and adding your notes beside each question.\n",
    "\n",
    "## Business Issue and Understanding\n",
    "\n",
    "You are working for a company that has two call centers: the North Call Center and the South Call Center. The company is looking to possibly hire five additional reps to enhance customer experience. Your task is to explore how efficient the current reps are in each branch to determine which branch would benefit from additional assistance.\n",
    "\n",
    "### How the Call Center Works\n",
    "\n",
    "Call center representatives are assigned queues. When calls are assigned to a queue, the call is assigned to the next person in line in the queue. After a call is assigned to a representative, the amount of time between assignment and the call starting is divided into busy minutes and not ready minutes. If the call is incoming and a customer is waiting on the phone for a rep, the time is split into three categories: busy minutes, not ready minutes, and incoming call wait time. Once the rep has the customer on the phone, there might be during call wait time, where the call is put on hold while the rep gets an answer for the customer.\n",
    "\n",
    "### Notes about the Dataset\n",
    "\n",
    "If you haven't worked in a call center before, these notes might help you throughout your analysis.\n",
    "\n",
    "* The call purpose is tagged for each call.\n",
    "* The time of the call is tagged in 1 hour blocks starting at 9:00 AM and ending at 5:00 PM.\n",
    "* Calls are tagged as incoming or outgoing.\n",
    "* Reps are assigned to queues. When the reps are working, they take calls in the order of their queue.\n",
    "* A call that is dropped due to technical error or missed by the center because they have reached maximum capacity is a lost call.\n",
    "* An abandoned call is when the customer hangs up because they have been waiting for too long.\n",
    "* Busy Minutes: the amount of time after a call comes in or needs to go out where the assigned rep is not available because they are busy with other customers.\n",
    "* Not Ready Minutes: the amount of time after a call comes in or needs to go out where the assigned rep is not available because they are not ready (for example, getting water).\n",
    "* Incoming Wait Time - amount of time after assigned rep is available to take the call customer waits for representative to pick up a call. This is tracked in seconds.\n",
    "* During Call Wait Time - amount of time during call that customer has to wait for representative\n",
    "\n",
    "## Getting Started\n",
    "\n",
    "You have two CSVs at your disposal, `NorthCallCenter.csv` and `SouthCallCenter.csv`. Import the appropriate libraries and create two dataframes, one called `north_df` and one called `south_df`."
   ]
  },
  {
   "cell_type": "code",
   "execution_count": 1,
   "id": "f362436b",
   "metadata": {},
   "outputs": [],
   "source": [
    "# Import the appropriate libraries with aliases\n",
    "import pandas as pd\n",
    "import numpy as np\n",
    "\n",
    "# Create two new dataframes\n",
    "north_df = pd.read_csv(\"./NorthCallCenter.csv\")\n",
    "south_df = pd.read_csv(\"./SouthCallCenter.csv\")\n",
    "\n",
    "# north_df.head() --successfully installed\n",
    "# south_df.head() --successfully installed"
   ]
  },
  {
   "cell_type": "code",
   "execution_count": 2,
   "id": "5f562570-8b84-4fdd-b40c-fb3d882126ab",
   "metadata": {},
   "outputs": [
    {
     "name": "stdout",
     "output_type": "stream",
     "text": [
      "2.2.3\n"
     ]
    }
   ],
   "source": [
    "print(pd.__version__)"
   ]
  },
  {
   "cell_type": "markdown",
   "id": "b4d3484b",
   "metadata": {},
   "source": [
    "## Task 1: Exploratory Data Analysis\n",
    "\n",
    "Time to do some EDA! In the process of learning more about the two datasets, answer the following questions. Use the code blocks below to begin cleaning your data. At the end of the section, record your answers."
   ]
  },
  {
   "cell_type": "markdown",
   "id": "76898991",
   "metadata": {},
   "source": [
    "#### EDA Question 1A:  How many reps are in the North branch?  "
   ]
  },
  {
   "cell_type": "code",
   "execution_count": 3,
   "id": "ce3eb5e4",
   "metadata": {},
   "outputs": [
    {
     "name": "stdout",
     "output_type": "stream",
     "text": [
      "        Unnamed: 0                                             Branch  \\\n",
      "Rep ID                                                                  \n",
      "Amanda        2666  NorthNorthNorthNorthNorthNorthNorthNorthNorthN...   \n",
      "Andy          2494  NorthNorthNorthNorthNorthNorthNorthNorthNorthN...   \n",
      "Brent         4840  NorthNorthNorthNorthNorthNorthNorthNorthNorthN...   \n",
      "Cam           2746  NorthNorthNorthNorthNorthNorthNorthNorthNorthN...   \n",
      "Duke          2999  NorthNorthNorthNorthNorthNorthNorthNorthNorthN...   \n",
      "Joe           3178  NorthNorthNorthNorthNorthNorthNorthNorthNorthN...   \n",
      "Lilly         3375  NorthNorthNorthNorthNorthNorthNorthNorthNorthN...   \n",
      "Todd          4252  NorthNorthNorthNorthNorthNorthNorthNorthNorthN...   \n",
      "Xander        3340  NorthNorthNorthNorthNorthNorthNorthNorthNorthN...   \n",
      "\n",
      "                                             Call Purpose  \\\n",
      "Rep ID                                                      \n",
      "Amanda  Product SupportProduct SupportProduct SupportS...   \n",
      "Andy    ComplaintSales SupportProduct SupportProduct S...   \n",
      "Brent   ComplaintSales SupportProduct SupportComplaint...   \n",
      "Cam     Sales SupportProduct SupportProduct SupportPro...   \n",
      "Duke    Product SupportProduct SupportComplaintComplai...   \n",
      "Joe     Product SupportProduct SupportSales SupportSal...   \n",
      "Lilly   Product SupportSales SupportSales SupportProdu...   \n",
      "Todd    Sales SupportProduct SupportSales SupportSales...   \n",
      "Xander  Product SupportProduct SupportSales SupportPro...   \n",
      "\n",
      "                                               Time Block  \\\n",
      "Rep ID                                                      \n",
      "Amanda  4:00 PM12:00 PM1:00 PM10:00 AM10:00 AM11:00 AM...   \n",
      "Andy    2:00 PM1:00 PM3:00 PM5:00 PM12:00 PM11:00 AM3:...   \n",
      "Brent   9:00 AM4:00 PM12:00 PM12:00 PM3:00 PM1:00 PM10...   \n",
      "Cam     11:00 AM3:00 PM3:00 PM4:00 PM12:00 PM11:00 AM2...   \n",
      "Duke    2:00 PM3:00 PM9:00 AM1:00 PM10:00 AM12:00 PM10...   \n",
      "Joe     2:00 PM4:00 PM11:00 AM12:00 PM12:00 PM10:00 AM...   \n",
      "Lilly   2:00 PM10:00 AM11:00 AM2:00 PM10:00 AM12:00 PM...   \n",
      "Todd    11:00 AM4:00 PM10:00 AM12:00 PM12:00 PM2:00 PM...   \n",
      "Xander  3:00 PM4:00 PM2:00 PM2:00 PM4:00 PM12:00 PM11:...   \n",
      "\n",
      "                                     Incoming or Outgoing  \\\n",
      "Rep ID                                                      \n",
      "Amanda  IncomingIncomingIncomingIncomingIncomingOutgoi...   \n",
      "Andy    IncomingIncomingIncomingIncomingIncomingIncomi...   \n",
      "Brent   IncomingIncomingIncomingIncomingIncomingIncomi...   \n",
      "Cam     IncomingIncomingIncomingIncomingIncomingIncomi...   \n",
      "Duke    IncomingIncomingIncomingIncomingIncomingIncomi...   \n",
      "Joe     IncomingIncomingIncomingIncomingIncomingIncomi...   \n",
      "Lilly   IncomingIncomingIncomingIncomingIncomingIncomi...   \n",
      "Todd    IncomingIncomingIncomingIncomingIncomingIncomi...   \n",
      "Xander  IncomingIncomingIncomingIncomingIncomingIncomi...   \n",
      "\n",
      "                                        Queue  \\\n",
      "Rep ID                                          \n",
      "Amanda                AAAAAAAAAAAAAAAAAAAAAAA   \n",
      "Andy                  AAAAAAAAAAAAAAAAAAAAAAA   \n",
      "Brent   BBBBBBBBBBBBBBBBBBBBBBBBBBBBBBBBBBBBB   \n",
      "Cam                  AAAAAAAAAAAAAAAAAAAAAAAA   \n",
      "Duke            BBBBBBBBBBBBBBBBBBBBBBBBBBBBB   \n",
      "Joe                AAAAAAAAAAAAAAAAAAAAAAAAAA   \n",
      "Lilly          BBBBBBBBBBBBBBBBBBBBBBBBBBBBBB   \n",
      "Todd            BBBBBBBBBBBBBBBBBBBBBBBBBBBBB   \n",
      "Xander               BBBBBBBBBBBBBBBBBBBBBBBB   \n",
      "\n",
      "                                                     Sale  Lost Call  \\\n",
      "Rep ID                                                                 \n",
      "Amanda    NONONONOYESNONONONONONONONONONONONONONONONONONO          0   \n",
      "Andy     NONONONONONONOYESNONONOYESNONONONONONONONONONONO          0   \n",
      "Brent   NONONONONONONONONONONONONONONONONONONONONONONO...          0   \n",
      "Cam     NONONONONONONONONONONONONONONONONONONONONONOYESNO          1   \n",
      "Duke    NONONONONONONONONONONONONONONONONONONONONONONO...          2   \n",
      "Joe     NONONONONONONONONONONONONONONONONONONONONONONO...          0   \n",
      "Lilly   NOYES NONONONOYESNONONONONOYESYESYESNONONONONO...          0   \n",
      "Todd    NONONOYESNONONONONONONONONONONONONONONONONONON...          1   \n",
      "Xander   NONONONONONONONONONONONONONONONONONONONONONONONO          1   \n",
      "\n",
      "        Abandoned  Busy Minutes  Not Ready Minutes  Incoming Wait Time  \\\n",
      "Rep ID                                                                   \n",
      "Amanda          1           229                 43                12.0   \n",
      "Andy            3           228                 43                36.0   \n",
      "Brent           1           362                 71                17.0   \n",
      "Cam             0           233                 46                32.0   \n",
      "Duke            0           292                 56                39.0   \n",
      "Joe             0           256                 49                36.0   \n",
      "Lilly           2           307                 59                37.0   \n",
      "Todd            0           296                 58                21.0   \n",
      "Xander          0           244                 44                20.0   \n",
      "\n",
      "        During Call Wait Time  Calls  \n",
      "Rep ID                                \n",
      "Amanda                     60     23  \n",
      "Andy                       65     23  \n",
      "Brent                     117     37  \n",
      "Cam                        66     24  \n",
      "Duke                       85     29  \n",
      "Joe                        81     26  \n",
      "Lilly                      88     30  \n",
      "Todd                       97     29  \n",
      "Xander                     68     24  \n"
     ]
    }
   ],
   "source": [
    "# EDA Question 1A solution below:\n",
    "n_reps = north_df.groupby('Rep ID')\n",
    "# groups the reps by their ID\n",
    "# need to count the sum of each group, and would also like a list of the names to print, for future reference when I combine the 2 dataframes from the call centers. \n",
    "print(n_reps.sum())\n",
    "\n"
   ]
  },
  {
   "cell_type": "code",
   "execution_count": 4,
   "id": "692d1b39-b7e7-4e84-9e39-fa4744eb1ce2",
   "metadata": {},
   "outputs": [
    {
     "name": "stdout",
     "output_type": "stream",
     "text": [
      "9\n"
     ]
    }
   ],
   "source": [
    "no_reps = north_df['Rep ID'].nunique()\n",
    "# groups the reps by their ID, and then counts the unique values\n",
    "print(no_reps)\n"
   ]
  },
  {
   "cell_type": "markdown",
   "id": "2a9b34d8",
   "metadata": {},
   "source": [
    "#### EDA Question 1B:  How many reps are in the South branch?  "
   ]
  },
  {
   "cell_type": "code",
   "execution_count": 5,
   "id": "3c715bbf",
   "metadata": {},
   "outputs": [
    {
     "name": "stdout",
     "output_type": "stream",
     "text": [
      "        Unnamed: 0                                             Branch  \\\n",
      "Rep ID                                                                  \n",
      "Alice         3637  SouthSouthSouthSouthSouthSouthSouthSouthSouthS...   \n",
      "Eric          5039  SouthSouthSouthSouthSouthSouthSouthSouthSouthS...   \n",
      "George        4620  SouthSouthSouthSouthSouthSouthSouthSouthSouthS...   \n",
      "Helga         5236  SouthSouthSouthSouthSouthSouthSouthSouthSouthS...   \n",
      "Josh          3960  SouthSouthSouthSouthSouthSouthSouthSouthSouthS...   \n",
      "Karl          4532  SouthSouthSouthSouthSouthSouthSouthSouthSouthS...   \n",
      "Kate          4615  SouthSouthSouthSouthSouthSouthSouthSouthSouthS...   \n",
      "Randy         4576  SouthSouthSouthSouthSouthSouthSouthSouthSouthS...   \n",
      "Sandy         4694  SouthSouthSouthSouthSouthSouthSouthSouthSouthS...   \n",
      "Sharon        4226  SouthSouthSouthSouthSouthSouthSouthSouthSouthS...   \n",
      "Susan         4006  SouthSouthSouthSouthSouthSouthSouthSouthSouthS...   \n",
      "\n",
      "                                             Call Purpose  \\\n",
      "Rep ID                                                      \n",
      "Alice   Sales SupportProduct SupportProduct SupportSal...   \n",
      "Eric    Sales SupportComplaintSales SupportSales Suppo...   \n",
      "George  Product SupportProduct SupportProduct SupportC...   \n",
      "Helga   Product SupportComplaintComplaintSales Support...   \n",
      "Josh    Product SupportComplaintSales SupportProduct S...   \n",
      "Karl    Sales SupportComplaintComplaintSales SupportPr...   \n",
      "Kate    Sales SupportSales SupportComplaintSales Suppo...   \n",
      "Randy   Product SupportProduct SupportComplaintComplai...   \n",
      "Sandy   Sales SupportProduct SupportProduct SupportCom...   \n",
      "Sharon  Product SupportSales SupportSales SupportCompl...   \n",
      "Susan   Sales SupportProduct SupportProduct SupportCom...   \n",
      "\n",
      "                                               Time Block  \\\n",
      "Rep ID                                                      \n",
      "Alice   10:00 AM5:00 PM5:00 PM1:00 PM10:00 AM2:00 PM10...   \n",
      "Eric    10:00 AM1:00 PM10:00 AM12:00 PM2:00 PM3:00 PM3...   \n",
      "George  3:00 PM4:00 PM2:00 PM12:00 PM10:00 AM4:00 PM3:...   \n",
      "Helga   3:00 PM3:00 PM5:00 PM10:00 AM11:00 AM3:00 PM11...   \n",
      "Josh    4:00 PM12:00 PM4:00 PM12:00 PM3:00 PM3:00 PM3:...   \n",
      "Karl    1:00 PM5:00 PM2:00 PM2:00 PM4:00 PM10:00 AM4:0...   \n",
      "Kate    10:00 AM11:00 AM12:00 PM10:00 AM12:00 PM12:00 ...   \n",
      "Randy   2:00 PM5:00 PM11:00 AM12:00 PM10:00 AM1:00 PM3...   \n",
      "Sandy   12:00 PM11:00 AM12:00 PM1:00 PM12:00 PM10:00 A...   \n",
      "Sharon  11:00 AM12:00 PM12:00 PM5:00 PM12:00 PM1:00 PM...   \n",
      "Susan   10:00 AM10:00 AM11:00 AM12:00 PM3:00 PM12:00 P...   \n",
      "\n",
      "                                     Incoming or Outgoing  \\\n",
      "Rep ID                                                      \n",
      "Alice   IncomingIncomingIncomingIncomingIncomingIncomi...   \n",
      "Eric    IncomingIncomingIncomingIncomingIncomingIncomi...   \n",
      "George  IncomingIncomingIncomingIncomingIncomingIncomi...   \n",
      "Helga   IncomingIncomingIncomingIncomingIncomingIncomi...   \n",
      "Josh    IncomingIncomingIncomingIncomingIncomingIncomi...   \n",
      "Karl    IncomingIncomingIncomingIncomingIncomingIncomi...   \n",
      "Kate    IncomingIncomingIncomingIncomingIncomingIncomi...   \n",
      "Randy   IncomingIncomingIncomingIncomingIncomingIncomi...   \n",
      "Sandy   IncomingIncomingIncomingIncomingIncomingIncomi...   \n",
      "Sharon  IncomingIncomingIncomingIncomingIncomingIncomi...   \n",
      "Susan   IncomingIncomingIncomingIncomingIncomingIncomi...   \n",
      "\n",
      "                                      Queue  \\\n",
      "Rep ID                                        \n",
      "Alice                  CCCCCCCCCCCCCCCCCCCC   \n",
      "Eric    CCCCCCCCCCCCCCCCCCCCCCCCCCCCCCCCCCC   \n",
      "George        DDDDDDDDDDDDDDDDDDDDDDDDDDDDD   \n",
      "Helga       DDDDDDDDDDDDDDDDDDDDDDDDDDDDDDD   \n",
      "Josh             DDDDDDDDDDDDDDDDDDDDDDDDDD   \n",
      "Karl           DDDDDDDDDDDDDDDDDDDDDDDDDDDD   \n",
      "Kate          DDDDDDDDDDDDDDDDDDDDDDDDDDDDD   \n",
      "Randy     DDDDDDDDDDDDDDDDDDDDDDDDDDDDDDDDD   \n",
      "Sandy      CCCCCCCCCCCCCCCCCCCCCCCCCCCCCCCC   \n",
      "Sharon            CCCCCCCCCCCCCCCCCCCCCCCCC   \n",
      "Susan            CCCCCCCCCCCCCCCCCCCCCCCCCC   \n",
      "\n",
      "                                                     Sale  Lost Call  \\\n",
      "Rep ID                                                                 \n",
      "Alice            NONONONONONONONONONONONONONONONONONONONO          0   \n",
      "Eric    NONONONONONONONONONONONONONONONONONONONONONONO...          0   \n",
      "George  NONONONONONONONONONONONONONONONONONONONONONONO...          0   \n",
      "Helga   NONONONONONONONONONONONONONONONONONONONONONONO...          0   \n",
      "Josh    NONOYESNONONONONOYESNONONONONOYESYESNONONONONO...          3   \n",
      "Karl    NONONONONONONONONONONONONONONONONONONONONONOYE...          1   \n",
      "Kate    NONONONONONONONONONONONONONONONONONONONONONONO...          0   \n",
      "Randy   NONONONONONONONONONONONONONONONONONONONONONONO...          3   \n",
      "Sandy   NONONONONONONONONONONONONONONONONONONONONONONO...          1   \n",
      "Sharon  NONONONONONONONONONONONONONONONONONONONONONONO...          1   \n",
      "Susan   NONONONONONONONONONONONONONONONONONONONONONONO...          2   \n",
      "\n",
      "        Abandoned  Busy Minutes  Not Ready Minutes  Incoming Wait Time  \\\n",
      "Rep ID                                                                   \n",
      "Alice           0           199                 46                15.0   \n",
      "Eric            0           361                 54                47.0   \n",
      "George          0           298                 53                41.0   \n",
      "Helga           2           292                 58                36.0   \n",
      "Josh            0           260                 50                31.0   \n",
      "Karl            0           287                 61                26.0   \n",
      "Kate            0           291                 61                37.0   \n",
      "Randy           1           320                 66                47.0   \n",
      "Sandy           0           325                 60                34.0   \n",
      "Sharon          1           257                 38                29.0   \n",
      "Susan           0           267                 53                35.0   \n",
      "\n",
      "        During Call Wait Time  Calls  \n",
      "Rep ID                                \n",
      "Alice                      58     20  \n",
      "Eric                      112     35  \n",
      "George                     87     29  \n",
      "Helga                      95     31  \n",
      "Josh                       83     26  \n",
      "Karl                       85     28  \n",
      "Kate                       83     29  \n",
      "Randy                      98     33  \n",
      "Sandy                     100     32  \n",
      "Sharon                     77     25  \n",
      "Susan                      88     26  \n"
     ]
    }
   ],
   "source": [
    "# EDA Question 1B solution Below:\n",
    "s_reps = south_df.groupby('Rep ID')\n",
    "# groups the reps by their ID\n",
    "# need to count the sum of each group, and would also like a list of the names to print, for future reference when I combine the 2 dataframes from the call centers. \n",
    "print(s_reps.sum())\n",
    "#this returned the group of names, but I had to manually count the reps. Not ideal. "
   ]
  },
  {
   "cell_type": "code",
   "execution_count": 6,
   "id": "aa673243-dd84-43ee-9e5b-a80d25bb0b8f",
   "metadata": {},
   "outputs": [
    {
     "name": "stdout",
     "output_type": "stream",
     "text": [
      "11\n"
     ]
    }
   ],
   "source": [
    "so_reps = south_df['Rep ID'].nunique()\n",
    "# counts the unique values\n",
    "print(so_reps)\n"
   ]
  },
  {
   "cell_type": "markdown",
   "id": "a872f045",
   "metadata": {},
   "source": [
    "#### EDA Question 2A:  What is the average busy minutes, not ready minutes, incoming wait time, and during call wait time for the North branch? "
   ]
  },
  {
   "cell_type": "code",
   "execution_count": 7,
   "id": "3759305f",
   "metadata": {},
   "outputs": [
    {
     "name": "stdout",
     "output_type": "stream",
     "text": [
      "9.99\n"
     ]
    }
   ],
   "source": [
    "# EDA Question 2A solution Below:\n",
    "north_avg_busy = north_df['Busy Minutes'].mean()\n",
    "north_avg_busy2= round(north_avg_busy,2)\n",
    "\n",
    "print(north_avg_busy2)"
   ]
  },
  {
   "cell_type": "code",
   "execution_count": 8,
   "id": "fcae3073-66f9-42d1-83a7-973106cefb5a",
   "metadata": {},
   "outputs": [
    {
     "name": "stdout",
     "output_type": "stream",
     "text": [
      "1.91\n"
     ]
    }
   ],
   "source": [
    "north_avg_not = north_df['Not Ready Minutes'].mean()\n",
    "north_avg_not2= round(north_avg_not,2)\n",
    "\n",
    "print(north_avg_not2)"
   ]
  },
  {
   "cell_type": "code",
   "execution_count": 9,
   "id": "177a0ce5-5572-4fde-9ef3-94091a37e7d0",
   "metadata": {},
   "outputs": [
    {
     "name": "stdout",
     "output_type": "stream",
     "text": [
      "3.05\n"
     ]
    }
   ],
   "source": [
    "north_avg_inc = north_df['Incoming Wait Time'].mean()\n",
    "north_avg_inc2= round(north_avg_inc,2)\n",
    "\n",
    "print(north_avg_inc2)"
   ]
  },
  {
   "cell_type": "code",
   "execution_count": 10,
   "id": "b3c73c14-76b6-42ae-bdee-5f9e7c3bd473",
   "metadata": {},
   "outputs": [
    {
     "name": "stdout",
     "output_type": "stream",
     "text": [
      "2.97\n"
     ]
    }
   ],
   "source": [
    "north_avg_during = north_df['During Call Wait Time'].mean()\n",
    "north_avg_during2= round(north_avg_during,2)\n",
    "\n",
    "print(north_avg_during2)"
   ]
  },
  {
   "cell_type": "markdown",
   "id": "3851cf3e",
   "metadata": {},
   "source": [
    "#### EDA Question 2B:  What is the average busy minutes, not ready minutes, incoming wait time, and during call wait time for the South branch? "
   ]
  },
  {
   "cell_type": "code",
   "execution_count": 11,
   "id": "a77ec152",
   "metadata": {},
   "outputs": [
    {
     "name": "stdout",
     "output_type": "stream",
     "text": [
      "10.05\n"
     ]
    }
   ],
   "source": [
    "# EDA Question 2B solution Below:\n",
    "south_avg_busy = south_df['Busy Minutes'].mean()\n",
    "south_avg_busy2= round(south_avg_busy,2)\n",
    "\n",
    "print(south_avg_busy2)"
   ]
  },
  {
   "cell_type": "code",
   "execution_count": 12,
   "id": "7d5070bc-8efd-46be-b409-83e007328620",
   "metadata": {},
   "outputs": [
    {
     "name": "stdout",
     "output_type": "stream",
     "text": [
      "1.91\n"
     ]
    }
   ],
   "source": [
    "south_avg_not = south_df['Not Ready Minutes'].mean()\n",
    "south_avg_not2= round(south_avg_not,2)\n",
    "\n",
    "print(south_avg_not2)"
   ]
  },
  {
   "cell_type": "code",
   "execution_count": 13,
   "id": "ba0c59ed-064c-40ea-ae42-252a9e1fc2a0",
   "metadata": {},
   "outputs": [
    {
     "name": "stdout",
     "output_type": "stream",
     "text": [
      "3.0\n"
     ]
    }
   ],
   "source": [
    "south_avg_inc = south_df['Incoming Wait Time'].mean()\n",
    "south_avg_inc2= round(south_avg_inc,2)\n",
    "\n",
    "print(south_avg_inc2)"
   ]
  },
  {
   "cell_type": "code",
   "execution_count": 14,
   "id": "c805a356-5dc8-4c86-805e-243a482649af",
   "metadata": {},
   "outputs": [
    {
     "name": "stdout",
     "output_type": "stream",
     "text": [
      "3.08\n"
     ]
    }
   ],
   "source": [
    "south_avg_during = south_df['During Call Wait Time'].mean()\n",
    "south_avg_during2= round(south_avg_during,2)\n",
    "\n",
    "print(south_avg_during2)"
   ]
  },
  {
   "cell_type": "markdown",
   "id": "75915553",
   "metadata": {},
   "source": [
    "#### EDA Question 3:  What is the number of calls taken for each time block(Both North and South combined)?"
   ]
  },
  {
   "cell_type": "code",
   "execution_count": 15,
   "id": "772b037e-c0f2-4dc3-8c44-9811159b66a6",
   "metadata": {},
   "outputs": [
    {
     "data": {
      "text/plain": [
       "(245, 15)"
      ]
     },
     "execution_count": 15,
     "metadata": {},
     "output_type": "execute_result"
    }
   ],
   "source": [
    "# I need to know the shape of my data for this to make sure I'm getting all the rows and not missing any data:\n",
    "north_df.shape"
   ]
  },
  {
   "cell_type": "code",
   "execution_count": 16,
   "id": "19438b8b-0d99-4847-8e80-4a4069bdbe86",
   "metadata": {},
   "outputs": [
    {
     "data": {
      "text/plain": [
       "(314, 15)"
      ]
     },
     "execution_count": 16,
     "metadata": {},
     "output_type": "execute_result"
    }
   ],
   "source": [
    "# I need to know the shape of my data for this to make sure I'm getting all the rows and not missing any data:\n",
    "south_df.shape\n"
   ]
  },
  {
   "cell_type": "code",
   "execution_count": 17,
   "id": "49566936",
   "metadata": {},
   "outputs": [
    {
     "name": "stdout",
     "output_type": "stream",
     "text": [
      "                                                       Branch  Calls\n",
      "Time Block                                                          \n",
      "10:00 AM    NorthNorthNorthNorthNorthNorthNorthNorthNorthN...     99\n",
      "11:00 AM    NorthNorthNorthNorthNorthNorthNorthNorthNorthN...     56\n",
      "12:00 PM    NorthNorthNorthNorthNorthNorthNorthNorthNorthN...    120\n",
      "1:00 PM     NorthNorthNorthNorthNorthNorthNorthNorthNorthN...     40\n",
      "2:00 PM     NorthNorthNorthNorthNorthNorthNorthNorthNorthN...     65\n",
      "3:00 PM     NorthNorthNorthNorthNorthNorthNorthNorthNorthN...     73\n",
      "4:00 PM     NorthNorthNorthNorthNorthNorthNorthNorthNorthN...     53\n",
      "5:00 PM     NorthNorthNorthNorthNorthNorthNorthNorthNorthN...     43\n",
      "9:00 AM     NorthNorthNorthNorthNorthSouthSouthSouthSouthS...     10\n"
     ]
    }
   ],
   "source": [
    "# EDA Question 3 solution Below:\n",
    "# I want to create a new dataframe with just the information from these columns in it so I can then group by and sum. \n",
    "# I only need the time block column and the calls column from each dataset in the new dataframe, so I'm going to build that out. \n",
    "# I should have 2 columns (or 3 with the index) and 659 rows of data if I do this correctly. (based on the the blocks I ran above)\n",
    "\n",
    "subset_no = north_df[['Branch','Time Block','Calls']]\n",
    "subset_so = south_df[['Branch','Time Block','Calls']]\n",
    "\n",
    "all_tb_calls = pd.concat([subset_no, subset_so], axis=0)\n",
    "\n",
    "tb = all_tb_calls.groupby('Time Block')\n",
    "print(tb.sum())\n",
    "\n",
    "\n",
    "\n"
   ]
  },
  {
   "cell_type": "markdown",
   "id": "40b1fd3f",
   "metadata": {},
   "source": [
    "##### Record your answers for the EDA section below:\n",
    "- 1a) Reps in the North Branch = 9\n",
    "- 1b) Reps in the South Branch = 11\n",
    "\n",
    "\n",
    "- 2a) North Branch, (round to the nearest hundredth):\n",
    "> - Busy Minutes = 9.99\n",
    "> - Not Ready Minutes = 1.91\n",
    "> - Incoming Wait Time = 3.05\n",
    "> - During Call Wait Time = 2.97\n",
    "- 2b) South Branch, (round to the nearest hundredth):\n",
    "> - Busy Minutes = 10.05\n",
    "> - Not Ready Minutes = 1.91\n",
    "> - Incoming Wait Time = 3.0\n",
    "> - During Call Wait Time = 3.08\n",
    "- 3) Total Calls taken for all branches per time block:\n",
    "> - 9:00AM   = 10\n",
    "> - 10:00AM  = 99\n",
    "> - 11:00AM  = 56\n",
    "> - 12:00PM  = 120\n",
    "> - 1:00PM   = 40\n",
    "> - 2:00PM   = 65\n",
    "> - 3:00PM   = 73\n",
    "> - 4:00PM   = 53\n",
    "> - 5:00PM   = 43\n",
    "\n"
   ]
  },
  {
   "cell_type": "markdown",
   "id": "366bfb19",
   "metadata": {},
   "source": [
    "## Task 2: Cleaning Your Data \n",
    "Now you need to clean up the datasets. When cleaning the datasets, you may find that there isn't dirty data to clean. That is okay! Some questions you need to answer about the data sets.\n",
    "* Add additional code blocks as needed to show how you came to your conclusions. Add comments in your code blocks to help others understand your thinking. "
   ]
  },
  {
   "cell_type": "code",
   "execution_count": 18,
   "id": "4731eaaf-6ad8-4945-b014-337d55d7d836",
   "metadata": {},
   "outputs": [],
   "source": [
    "# I started with some general information gathering and found some overrall items to clean up before I get any farther. \n",
    "# I applied the same functions to each dataframe and use a new code block for every single function for each call center in order to have a visual of all the cleaning and \n",
    "# the output as I'm assessing what do to with these to make the manipulation and visuaization sections easier. \n"
   ]
  },
  {
   "cell_type": "code",
   "execution_count": 19,
   "id": "2dead20a-dcc3-4502-91ef-8ed42c53a644",
   "metadata": {},
   "outputs": [
    {
     "data": {
      "text/html": [
       "<div>\n",
       "<style scoped>\n",
       "    .dataframe tbody tr th:only-of-type {\n",
       "        vertical-align: middle;\n",
       "    }\n",
       "\n",
       "    .dataframe tbody tr th {\n",
       "        vertical-align: top;\n",
       "    }\n",
       "\n",
       "    .dataframe thead th {\n",
       "        text-align: right;\n",
       "    }\n",
       "</style>\n",
       "<table border=\"1\" class=\"dataframe\">\n",
       "  <thead>\n",
       "    <tr style=\"text-align: right;\">\n",
       "      <th></th>\n",
       "      <th>Unnamed: 0</th>\n",
       "      <th>Lost Call</th>\n",
       "      <th>Abandoned</th>\n",
       "      <th>Busy Minutes</th>\n",
       "      <th>Not Ready Minutes</th>\n",
       "      <th>Incoming Wait Time</th>\n",
       "      <th>During Call Wait Time</th>\n",
       "      <th>Calls</th>\n",
       "    </tr>\n",
       "  </thead>\n",
       "  <tbody>\n",
       "    <tr>\n",
       "      <th>count</th>\n",
       "      <td>245.000000</td>\n",
       "      <td>245.000000</td>\n",
       "      <td>245.000000</td>\n",
       "      <td>245.000000</td>\n",
       "      <td>245.000000</td>\n",
       "      <td>82.000000</td>\n",
       "      <td>245.000000</td>\n",
       "      <td>245.0</td>\n",
       "    </tr>\n",
       "    <tr>\n",
       "      <th>mean</th>\n",
       "      <td>122.000000</td>\n",
       "      <td>0.020408</td>\n",
       "      <td>0.028571</td>\n",
       "      <td>9.987755</td>\n",
       "      <td>1.914286</td>\n",
       "      <td>3.048780</td>\n",
       "      <td>2.967347</td>\n",
       "      <td>1.0</td>\n",
       "    </tr>\n",
       "    <tr>\n",
       "      <th>std</th>\n",
       "      <td>70.869599</td>\n",
       "      <td>0.141681</td>\n",
       "      <td>0.166940</td>\n",
       "      <td>1.403980</td>\n",
       "      <td>0.771416</td>\n",
       "      <td>1.456382</td>\n",
       "      <td>0.843827</td>\n",
       "      <td>0.0</td>\n",
       "    </tr>\n",
       "    <tr>\n",
       "      <th>min</th>\n",
       "      <td>0.000000</td>\n",
       "      <td>0.000000</td>\n",
       "      <td>0.000000</td>\n",
       "      <td>8.000000</td>\n",
       "      <td>1.000000</td>\n",
       "      <td>1.000000</td>\n",
       "      <td>2.000000</td>\n",
       "      <td>1.0</td>\n",
       "    </tr>\n",
       "    <tr>\n",
       "      <th>25%</th>\n",
       "      <td>61.000000</td>\n",
       "      <td>0.000000</td>\n",
       "      <td>0.000000</td>\n",
       "      <td>9.000000</td>\n",
       "      <td>1.000000</td>\n",
       "      <td>2.000000</td>\n",
       "      <td>2.000000</td>\n",
       "      <td>1.0</td>\n",
       "    </tr>\n",
       "    <tr>\n",
       "      <th>50%</th>\n",
       "      <td>122.000000</td>\n",
       "      <td>0.000000</td>\n",
       "      <td>0.000000</td>\n",
       "      <td>10.000000</td>\n",
       "      <td>2.000000</td>\n",
       "      <td>3.000000</td>\n",
       "      <td>3.000000</td>\n",
       "      <td>1.0</td>\n",
       "    </tr>\n",
       "    <tr>\n",
       "      <th>75%</th>\n",
       "      <td>183.000000</td>\n",
       "      <td>0.000000</td>\n",
       "      <td>0.000000</td>\n",
       "      <td>11.000000</td>\n",
       "      <td>3.000000</td>\n",
       "      <td>4.000000</td>\n",
       "      <td>4.000000</td>\n",
       "      <td>1.0</td>\n",
       "    </tr>\n",
       "    <tr>\n",
       "      <th>max</th>\n",
       "      <td>244.000000</td>\n",
       "      <td>1.000000</td>\n",
       "      <td>1.000000</td>\n",
       "      <td>12.000000</td>\n",
       "      <td>3.000000</td>\n",
       "      <td>5.000000</td>\n",
       "      <td>4.000000</td>\n",
       "      <td>1.0</td>\n",
       "    </tr>\n",
       "  </tbody>\n",
       "</table>\n",
       "</div>"
      ],
      "text/plain": [
       "       Unnamed: 0   Lost Call   Abandoned  Busy Minutes  Not Ready Minutes  \\\n",
       "count  245.000000  245.000000  245.000000    245.000000         245.000000   \n",
       "mean   122.000000    0.020408    0.028571      9.987755           1.914286   \n",
       "std     70.869599    0.141681    0.166940      1.403980           0.771416   \n",
       "min      0.000000    0.000000    0.000000      8.000000           1.000000   \n",
       "25%     61.000000    0.000000    0.000000      9.000000           1.000000   \n",
       "50%    122.000000    0.000000    0.000000     10.000000           2.000000   \n",
       "75%    183.000000    0.000000    0.000000     11.000000           3.000000   \n",
       "max    244.000000    1.000000    1.000000     12.000000           3.000000   \n",
       "\n",
       "       Incoming Wait Time  During Call Wait Time  Calls  \n",
       "count           82.000000             245.000000  245.0  \n",
       "mean             3.048780               2.967347    1.0  \n",
       "std              1.456382               0.843827    0.0  \n",
       "min              1.000000               2.000000    1.0  \n",
       "25%              2.000000               2.000000    1.0  \n",
       "50%              3.000000               3.000000    1.0  \n",
       "75%              4.000000               4.000000    1.0  \n",
       "max              5.000000               4.000000    1.0  "
      ]
     },
     "execution_count": 19,
     "metadata": {},
     "output_type": "execute_result"
    }
   ],
   "source": [
    "north_df.describe()\n",
    "# the output doesn't indicate any outliers to handle or be concerned about. "
   ]
  },
  {
   "cell_type": "code",
   "execution_count": 20,
   "id": "b044508c-7acd-4cd6-9b89-f951165fd59b",
   "metadata": {},
   "outputs": [
    {
     "data": {
      "text/html": [
       "<div>\n",
       "<style scoped>\n",
       "    .dataframe tbody tr th:only-of-type {\n",
       "        vertical-align: middle;\n",
       "    }\n",
       "\n",
       "    .dataframe tbody tr th {\n",
       "        vertical-align: top;\n",
       "    }\n",
       "\n",
       "    .dataframe thead th {\n",
       "        text-align: right;\n",
       "    }\n",
       "</style>\n",
       "<table border=\"1\" class=\"dataframe\">\n",
       "  <thead>\n",
       "    <tr style=\"text-align: right;\">\n",
       "      <th></th>\n",
       "      <th>Unnamed: 0</th>\n",
       "      <th>Lost Call</th>\n",
       "      <th>Abandoned</th>\n",
       "      <th>Busy Minutes</th>\n",
       "      <th>Not Ready Minutes</th>\n",
       "      <th>Incoming Wait Time</th>\n",
       "      <th>During Call Wait Time</th>\n",
       "      <th>Calls</th>\n",
       "    </tr>\n",
       "  </thead>\n",
       "  <tbody>\n",
       "    <tr>\n",
       "      <th>count</th>\n",
       "      <td>314.000000</td>\n",
       "      <td>314.000000</td>\n",
       "      <td>314.000000</td>\n",
       "      <td>314.00000</td>\n",
       "      <td>314.000000</td>\n",
       "      <td>126.000000</td>\n",
       "      <td>314.000000</td>\n",
       "      <td>314.0</td>\n",
       "    </tr>\n",
       "    <tr>\n",
       "      <th>mean</th>\n",
       "      <td>156.500000</td>\n",
       "      <td>0.035032</td>\n",
       "      <td>0.012739</td>\n",
       "      <td>10.05414</td>\n",
       "      <td>1.910828</td>\n",
       "      <td>3.000000</td>\n",
       "      <td>3.076433</td>\n",
       "      <td>1.0</td>\n",
       "    </tr>\n",
       "    <tr>\n",
       "      <th>std</th>\n",
       "      <td>90.788215</td>\n",
       "      <td>0.184154</td>\n",
       "      <td>0.112324</td>\n",
       "      <td>1.40751</td>\n",
       "      <td>0.860016</td>\n",
       "      <td>1.308434</td>\n",
       "      <td>0.819424</td>\n",
       "      <td>0.0</td>\n",
       "    </tr>\n",
       "    <tr>\n",
       "      <th>min</th>\n",
       "      <td>0.000000</td>\n",
       "      <td>0.000000</td>\n",
       "      <td>0.000000</td>\n",
       "      <td>8.00000</td>\n",
       "      <td>1.000000</td>\n",
       "      <td>1.000000</td>\n",
       "      <td>2.000000</td>\n",
       "      <td>1.0</td>\n",
       "    </tr>\n",
       "    <tr>\n",
       "      <th>25%</th>\n",
       "      <td>78.250000</td>\n",
       "      <td>0.000000</td>\n",
       "      <td>0.000000</td>\n",
       "      <td>9.00000</td>\n",
       "      <td>1.000000</td>\n",
       "      <td>2.000000</td>\n",
       "      <td>2.000000</td>\n",
       "      <td>1.0</td>\n",
       "    </tr>\n",
       "    <tr>\n",
       "      <th>50%</th>\n",
       "      <td>156.500000</td>\n",
       "      <td>0.000000</td>\n",
       "      <td>0.000000</td>\n",
       "      <td>10.00000</td>\n",
       "      <td>2.000000</td>\n",
       "      <td>3.000000</td>\n",
       "      <td>3.000000</td>\n",
       "      <td>1.0</td>\n",
       "    </tr>\n",
       "    <tr>\n",
       "      <th>75%</th>\n",
       "      <td>234.750000</td>\n",
       "      <td>0.000000</td>\n",
       "      <td>0.000000</td>\n",
       "      <td>11.00000</td>\n",
       "      <td>3.000000</td>\n",
       "      <td>4.000000</td>\n",
       "      <td>4.000000</td>\n",
       "      <td>1.0</td>\n",
       "    </tr>\n",
       "    <tr>\n",
       "      <th>max</th>\n",
       "      <td>313.000000</td>\n",
       "      <td>1.000000</td>\n",
       "      <td>1.000000</td>\n",
       "      <td>12.00000</td>\n",
       "      <td>3.000000</td>\n",
       "      <td>5.000000</td>\n",
       "      <td>4.000000</td>\n",
       "      <td>1.0</td>\n",
       "    </tr>\n",
       "  </tbody>\n",
       "</table>\n",
       "</div>"
      ],
      "text/plain": [
       "       Unnamed: 0   Lost Call   Abandoned  Busy Minutes  Not Ready Minutes  \\\n",
       "count  314.000000  314.000000  314.000000     314.00000         314.000000   \n",
       "mean   156.500000    0.035032    0.012739      10.05414           1.910828   \n",
       "std     90.788215    0.184154    0.112324       1.40751           0.860016   \n",
       "min      0.000000    0.000000    0.000000       8.00000           1.000000   \n",
       "25%     78.250000    0.000000    0.000000       9.00000           1.000000   \n",
       "50%    156.500000    0.000000    0.000000      10.00000           2.000000   \n",
       "75%    234.750000    0.000000    0.000000      11.00000           3.000000   \n",
       "max    313.000000    1.000000    1.000000      12.00000           3.000000   \n",
       "\n",
       "       Incoming Wait Time  During Call Wait Time  Calls  \n",
       "count          126.000000             314.000000  314.0  \n",
       "mean             3.000000               3.076433    1.0  \n",
       "std              1.308434               0.819424    0.0  \n",
       "min              1.000000               2.000000    1.0  \n",
       "25%              2.000000               2.000000    1.0  \n",
       "50%              3.000000               3.000000    1.0  \n",
       "75%              4.000000               4.000000    1.0  \n",
       "max              5.000000               4.000000    1.0  "
      ]
     },
     "execution_count": 20,
     "metadata": {},
     "output_type": "execute_result"
    }
   ],
   "source": [
    "south_df.describe()\n",
    "# similar to above--including similar stats overall between the 2 call centers. \n",
    "# there doesn't seem to be anything to be concerned about statistically with either dataset. \n",
    "# Comparing them and merging them shouldn't cause issues with the columns that have numerical data. "
   ]
  },
  {
   "cell_type": "code",
   "execution_count": 21,
   "id": "9beb3af8-15cd-4f07-8a61-959779d69edb",
   "metadata": {},
   "outputs": [
    {
     "name": "stdout",
     "output_type": "stream",
     "text": [
      "Unnamed: 0                 int64\n",
      "Branch                    object\n",
      "Call Purpose              object\n",
      "Time Block                object\n",
      "Incoming or Outgoing      object\n",
      "Queue                     object\n",
      "Rep ID                    object\n",
      "Sale                      object\n",
      "Lost Call                  int64\n",
      "Abandoned                  int64\n",
      "Busy Minutes               int64\n",
      "Not Ready Minutes          int64\n",
      "Incoming Wait Time       float64\n",
      "During Call Wait Time      int64\n",
      "Calls                      int64\n",
      "dtype: object\n"
     ]
    }
   ],
   "source": [
    "print (north_df.dtypes)\n",
    "# based on this information and what I can see when I look at the CSV files, I'm going to change all of the columns that are currently \"objects\" to \"strings\" and remove spaced from the middle of the strings,\n",
    "# like the option in call purpose and time block. \n",
    "# I think performing that during cleaning will help with some of the other features that I will need to use later, like groupby. \n",
    "# none of the columns that are currently idetified as \"object\" need to be treated as an integer or float, so I want to make them very clearly strings. \n",
    "# I think this might not be a significant issue in this data, but I've had problems when my data is \"objects\" on exercises and in other scenarios, \n",
    "# and I'm hopeful that this change will reduce errors later. "
   ]
  },
  {
   "cell_type": "code",
   "execution_count": 22,
   "id": "8d95fb18-e00c-43b0-81fa-e5c46ff48ea9",
   "metadata": {},
   "outputs": [
    {
     "name": "stdout",
     "output_type": "stream",
     "text": [
      "Unnamed: 0                 int64\n",
      "Branch                    object\n",
      "Call Purpose              object\n",
      "Time Block                object\n",
      "Incoming or Outgoing      object\n",
      "Queue                     object\n",
      "Rep ID                    object\n",
      "Sale                      object\n",
      "Lost Call                  int64\n",
      "Abandoned                  int64\n",
      "Busy Minutes               int64\n",
      "Not Ready Minutes          int64\n",
      "Incoming Wait Time       float64\n",
      "During Call Wait Time      int64\n",
      "Calls                      int64\n",
      "dtype: object\n"
     ]
    }
   ],
   "source": [
    "print (north_df.dtypes)"
   ]
  },
  {
   "cell_type": "code",
   "execution_count": 23,
   "id": "4f9eee5a-b0e6-49fc-84fe-403b49a7b6d5",
   "metadata": {},
   "outputs": [
    {
     "name": "stdout",
     "output_type": "stream",
     "text": [
      "Unnamed: 0                        int64\n",
      "Branch                   string[python]\n",
      "Call Purpose             string[python]\n",
      "Time Block               string[python]\n",
      "Incoming or Outgoing     string[python]\n",
      "Queue                    string[python]\n",
      "Rep ID                   string[python]\n",
      "Sale                             object\n",
      "Lost Call                         int64\n",
      "Abandoned                         int64\n",
      "Busy Minutes                      int64\n",
      "Not Ready Minutes                 int64\n",
      "Incoming Wait Time              float64\n",
      "During Call Wait Time             int64\n",
      "Calls                             int64\n",
      "dtype: object\n"
     ]
    }
   ],
   "source": [
    "\n",
    "# changing data types--I'm doing this one column at a time because I'm also replacing the data within the columns in the dataframe \n",
    "# and it makes me nervous. \n",
    "\n",
    "north_df['Branch'] = north_df['Branch'].astype('string')\n",
    "\n",
    "north_df['Call Purpose'] = north_df['Call Purpose'].astype('string')\n",
    "\n",
    "north_df['Time Block'] = north_df['Time Block'].astype('string')\n",
    "\n",
    "north_df['Incoming or Outgoing'] = north_df['Incoming or Outgoing'].astype('string')\n",
    "\n",
    "north_df['Queue'] = north_df['Queue'].astype('string')\n",
    "\n",
    "north_df['Rep ID'] = north_df['Rep ID'].astype('string')\n",
    "\n",
    "\n",
    "print(north_df.dtypes)"
   ]
  },
  {
   "cell_type": "code",
   "execution_count": 24,
   "id": "f0aedbea-4e65-4076-b89e-64619ad564f1",
   "metadata": {},
   "outputs": [
    {
     "name": "stdout",
     "output_type": "stream",
     "text": [
      "Unnamed: 0                        int64\n",
      "Branch                   string[python]\n",
      "Call Purpose             string[python]\n",
      "Time Block               string[python]\n",
      "Incoming or Outgoing     string[python]\n",
      "Queue                    string[python]\n",
      "Rep ID                   string[python]\n",
      "Sale                             object\n",
      "Lost Call                         int64\n",
      "Abandoned                         int64\n",
      "Busy Minutes                      int64\n",
      "Not Ready Minutes                 int64\n",
      "Incoming Wait Time              float64\n",
      "During Call Wait Time             int64\n",
      "Calls                             int64\n",
      "dtype: object\n"
     ]
    }
   ],
   "source": [
    "\n",
    "# changing data types--I'm doing this one column at a time because I'm also replacing the data within the columns in the dataframe \n",
    "# and it makes me nervous. \n",
    "\n",
    "south_df['Branch'] = south_df['Branch'].astype('string')\n",
    "\n",
    "south_df['Call Purpose'] = south_df['Call Purpose'].astype('string')\n",
    "\n",
    "south_df['Time Block'] = south_df['Time Block'].astype('string')\n",
    "\n",
    "south_df['Incoming or Outgoing'] = south_df['Incoming or Outgoing'].astype('string')\n",
    "\n",
    "south_df['Queue'] = south_df['Queue'].astype('string')\n",
    "\n",
    "south_df['Rep ID'] = south_df['Rep ID'].astype('string')\n",
    "\n",
    "\n",
    "print(south_df.dtypes)"
   ]
  },
  {
   "cell_type": "code",
   "execution_count": 25,
   "id": "e785bff2-4f9f-4d9c-aad7-4e770b0580f0",
   "metadata": {},
   "outputs": [
    {
     "name": "stdout",
     "output_type": "stream",
     "text": [
      "                 Unnamed: 0  \\\n",
      "Call Purpose                  \n",
      "Complaint               641   \n",
      "Product Support       22195   \n",
      "Sales Support          7054   \n",
      "\n",
      "                                                            Branch  \\\n",
      "Call Purpose                                                         \n",
      "Complaint        NorthNorthNorthNorthNorthNorthNorthNorthNorthN...   \n",
      "Product Support  NorthNorthNorthNorthNorthNorthNorthNorthNorthN...   \n",
      "Sales Support    NorthNorthNorthNorthNorthNorthNorthNorthNorthN...   \n",
      "\n",
      "                                                        Time Block  \\\n",
      "Call Purpose                                                         \n",
      "Complaint        9:00 AM9:00 AM12:00 PM1:00 PM3:00 PM2:00 PM12:...   \n",
      "Product Support  12:00 PM2:00 PM2:00 PM2:00 PM3:00 PM3:00 PM4:0...   \n",
      "Sales Support    11:00 AM11:00 AM4:00 PM10:00 AM10:00 AM11:00 A...   \n",
      "\n",
      "                                              Incoming or Outgoing  \\\n",
      "Call Purpose                                                         \n",
      "Complaint        IncomingIncomingIncomingIncomingIncomingIncomi...   \n",
      "Product Support  IncomingIncomingIncomingIncomingIncomingIncomi...   \n",
      "Sales Support    IncomingIncomingIncomingIncomingIncomingIncomi...   \n",
      "\n",
      "                                                             Queue  \\\n",
      "Call Purpose                                                         \n",
      "Complaint                                          BBBBBAAAABBAABA   \n",
      "Product Support  BBABBAAABAABBAABABBAAABBBBBBABAABABAAABBBBBABA...   \n",
      "Sales Support    ABBBBBBABBABAABBBBAAAAABBABBABBABABBBBBBABAAAB...   \n",
      "\n",
      "                                                            Rep ID  \\\n",
      "Call Purpose                                                         \n",
      "Complaint        BrentDukeBrentDukeBrentAndyCamCamJoeLillyXande...   \n",
      "Product Support  BrentDukeJoeLillyDukeCamJoeAmandaToddAmandaAma...   \n",
      "Sales Support    CamToddBrentDukeLillyLillyDukeAndyBrentLillyAm...   \n",
      "\n",
      "                                                              Sale  Lost Call  \\\n",
      "Call Purpose                                                                    \n",
      "Complaint                           NONONONONONONONONONONONONONONO          0   \n",
      "Product Support  NONONONONONONONONONONONONONONONONONONONONONONO...          1   \n",
      "Sales Support    NONONONOYES NONONONONONONONONONONOYESNONOYESNO...          4   \n",
      "\n",
      "                 Abandoned  Busy Minutes  Not Ready Minutes  \\\n",
      "Call Purpose                                                  \n",
      "Complaint                2           148                 32   \n",
      "Product Support          2          1441                269   \n",
      "Sales Support            3           858                168   \n",
      "\n",
      "                 Incoming Wait Time  During Call Wait Time  Calls  \n",
      "Call Purpose                                                       \n",
      "Complaint                      43.0                     45     15  \n",
      "Product Support                98.0                    427    145  \n",
      "Sales Support                 109.0                    255     85  \n"
     ]
    }
   ],
   "source": [
    "n_purpose = north_df.groupby('Call Purpose')\n",
    "# groups the call purpose categories\n",
    "# counts and shows me the list of each\n",
    "print(n_purpose.sum())"
   ]
  },
  {
   "cell_type": "code",
   "execution_count": 26,
   "id": "c38a5ef2-b993-406f-8017-102761d2009f",
   "metadata": {
    "scrolled": true
   },
   "outputs": [
    {
     "name": "stdout",
     "output_type": "stream",
     "text": [
      "            Unnamed: 0                                             Branch  \\\n",
      "Time Block                                                                  \n",
      "10:00 AM          3977  NorthNorthNorthNorthNorthNorthNorthNorthNorthN...   \n",
      "11:00 AM          2545  NorthNorthNorthNorthNorthNorthNorthNorthNorthN...   \n",
      "12:00 PM          4989  NorthNorthNorthNorthNorthNorthNorthNorthNorthN...   \n",
      "1:00 PM           1970  NorthNorthNorthNorthNorthNorthNorthNorthNorthN...   \n",
      "2:00 PM           4774  NorthNorthNorthNorthNorthNorthNorthNorthNorthN...   \n",
      "3:00 PM           4209  NorthNorthNorthNorthNorthNorthNorthNorthNorthN...   \n",
      "4:00 PM           4131  NorthNorthNorthNorthNorthNorthNorthNorthNorthN...   \n",
      "5:00 PM           3048  NorthNorthNorthNorthNorthNorthNorthNorthNorthN...   \n",
      "9:00 AM            247                          NorthNorthNorthNorthNorth   \n",
      "\n",
      "                                                 Call Purpose  \\\n",
      "Time Block                                                      \n",
      "10:00 AM    Sales SupportSales SupportSales SupportSales S...   \n",
      "11:00 AM    Sales SupportSales SupportSales SupportSales S...   \n",
      "12:00 PM    Product SupportComplaintSales SupportProduct S...   \n",
      "1:00 PM     ComplaintSales SupportSales SupportProduct Sup...   \n",
      "2:00 PM     Product SupportProduct SupportProduct SupportC...   \n",
      "3:00 PM     Product SupportProduct SupportComplaintProduct...   \n",
      "4:00 PM     Sales SupportProduct SupportProduct SupportPro...   \n",
      "5:00 PM     Product SupportProduct SupportComplaintComplai...   \n",
      "9:00 AM     ComplaintComplaintComplaintProduct SupportProd...   \n",
      "\n",
      "                                         Incoming or Outgoing  \\\n",
      "Time Block                                                      \n",
      "10:00 AM    IncomingIncomingIncomingIncomingIncomingIncomi...   \n",
      "11:00 AM    IncomingIncomingIncomingIncomingIncomingIncomi...   \n",
      "12:00 PM    IncomingIncomingIncomingIncomingIncomingIncomi...   \n",
      "1:00 PM     IncomingIncomingIncomingIncomingIncomingOutgoi...   \n",
      "2:00 PM     IncomingIncomingIncomingIncomingIncomingIncomi...   \n",
      "3:00 PM     IncomingIncomingIncomingIncomingIncomingIncomi...   \n",
      "4:00 PM     IncomingIncomingIncomingIncomingIncomingIncomi...   \n",
      "5:00 PM     IncomingIncomingIncomingIncomingOutgoingOutgoi...   \n",
      "9:00 AM              IncomingIncomingIncomingOutgoingOutgoing   \n",
      "\n",
      "                                                    Queue  \\\n",
      "Time Block                                                  \n",
      "10:00 AM      BBBABBAABBAAABBBBBABAAABBAABBBBABABBBBBABAB   \n",
      "11:00 AM                        ABBAAAABAABAABBBABABBBABA   \n",
      "12:00 PM    BBBAABBBAAABBBABBBBABBBABBBAABBAABBBBABAABAAB   \n",
      "1:00 PM                                 BABAAABABAAABBABB   \n",
      "2:00 PM               BABABABBBBABBBBAAABAABBABABBBBBBAAA   \n",
      "3:00 PM                    BABBAABABBABBBABBBAABBABBBBBBA   \n",
      "4:00 PM                      BAABBABBBABABABABBBBBBBBABBB   \n",
      "5:00 PM                                 ABAABBABBBBBBAAAB   \n",
      "9:00 AM                                             BBABA   \n",
      "\n",
      "                                                       Rep ID  \\\n",
      "Time Block                                                      \n",
      "10:00 AM    DukeLillyLillyAmandaDukeToddAmandaJoeLillyBren...   \n",
      "11:00 AM    CamToddLillyCamJoeAndyCamXanderAmandaAmandaLil...   \n",
      "12:00 PM    BrentBrentDukeAmandaCamDukeLillyLillyAndyJoeJo...   \n",
      "1:00 PM     DukeAndyBrentAmandaJoeAndyXanderAmandaToddJoeJ...   \n",
      "2:00 PM     DukeJoeLillyAndyLillyCamDukeXanderXanderToddAn...   \n",
      "3:00 PM     DukeCamBrentXanderAndyCamLillyAndyLillyDukeAnd...   \n",
      "4:00 PM     BrentJoeAmandaToddXanderCamDukeDukeXanderCamBr...   \n",
      "5:00 PM     AndyDukeCamCamBrentToddAndyToddDukeDukeBrentBr...   \n",
      "9:00 AM                                  BrentDukeJoeDukeAndy   \n",
      "\n",
      "                                                         Sale  Lost Call  \\\n",
      "Time Block                                                                 \n",
      "10:00 AM    NOYES NONONONOYESNONONONONONONOYESYESNONONONON...          3   \n",
      "11:00 AM    NONONONONONONONONONOYESNONONONONONONONONONONON...          1   \n",
      "12:00 PM    NONONONONONONOYESNONONONOYESNOYESNONONONONONON...          0   \n",
      "1:00 PM                    NONONONONONONONONONONONONONONONONO          0   \n",
      "2:00 PM     NONONONONONONONONONONONONONONONONONONONONONONO...          0   \n",
      "3:00 PM     NONONONONONONONONONONONONONONONONONONONONONONO...          0   \n",
      "4:00 PM     NONONONONONONONONONONONONOYESNONONONONONOYESNO...          0   \n",
      "5:00 PM                    NONONONONONONONONONONONONONONONONO          0   \n",
      "9:00 AM                                            NONONONONO          1   \n",
      "\n",
      "            Abandoned  Busy Minutes  Not Ready Minutes  Incoming Wait Time  \\\n",
      "Time Block                                                                   \n",
      "10:00 AM            2           431                 89                44.0   \n",
      "11:00 AM            1           256                 45                18.0   \n",
      "12:00 PM            1           444                 85                63.0   \n",
      "1:00 PM             0           178                 32                12.0   \n",
      "2:00 PM             1           346                 66                32.0   \n",
      "3:00 PM             0           302                 54                35.0   \n",
      "4:00 PM             0           273                 57                24.0   \n",
      "5:00 PM             0           165                 32                16.0   \n",
      "9:00 AM             2            52                  9                 6.0   \n",
      "\n",
      "            During Call Wait Time  Calls  \n",
      "Time Block                                \n",
      "10:00 AM                      130     43  \n",
      "11:00 AM                       69     25  \n",
      "12:00 PM                      143     45  \n",
      "1:00 PM                        46     17  \n",
      "2:00 PM                       107     35  \n",
      "3:00 PM                        87     30  \n",
      "4:00 PM                        84     28  \n",
      "5:00 PM                        46     17  \n",
      "9:00 AM                        15      5  \n"
     ]
    }
   ],
   "source": [
    "n_tb = north_df.groupby('Time Block')\n",
    "# groups time blocks\n",
    "# need to count the sum of each group, and shows me the list\n",
    "print(n_tb.sum())"
   ]
  },
  {
   "cell_type": "code",
   "execution_count": 27,
   "id": "16a077e7-1f7c-4024-8f83-62923617c9c8",
   "metadata": {},
   "outputs": [
    {
     "data": {
      "text/html": [
       "<div>\n",
       "<style scoped>\n",
       "    .dataframe tbody tr th:only-of-type {\n",
       "        vertical-align: middle;\n",
       "    }\n",
       "\n",
       "    .dataframe tbody tr th {\n",
       "        vertical-align: top;\n",
       "    }\n",
       "\n",
       "    .dataframe thead th {\n",
       "        text-align: right;\n",
       "    }\n",
       "</style>\n",
       "<table border=\"1\" class=\"dataframe\">\n",
       "  <thead>\n",
       "    <tr style=\"text-align: right;\">\n",
       "      <th></th>\n",
       "      <th>Unnamed: 0</th>\n",
       "      <th>Branch</th>\n",
       "      <th>Call Purpose</th>\n",
       "      <th>Time Block</th>\n",
       "      <th>Incoming or Outgoing</th>\n",
       "      <th>Queue</th>\n",
       "      <th>Rep ID</th>\n",
       "      <th>Sale</th>\n",
       "      <th>Lost Call</th>\n",
       "      <th>Abandoned</th>\n",
       "      <th>Busy Minutes</th>\n",
       "      <th>Not Ready Minutes</th>\n",
       "      <th>Incoming Wait Time</th>\n",
       "      <th>During Call Wait Time</th>\n",
       "      <th>Calls</th>\n",
       "    </tr>\n",
       "  </thead>\n",
       "  <tbody>\n",
       "    <tr>\n",
       "      <th>0</th>\n",
       "      <td>0</td>\n",
       "      <td>North</td>\n",
       "      <td>Complaint</td>\n",
       "      <td>9:00 AM</td>\n",
       "      <td>Incoming</td>\n",
       "      <td>B</td>\n",
       "      <td>Brent</td>\n",
       "      <td>NO</td>\n",
       "      <td>0</td>\n",
       "      <td>1</td>\n",
       "      <td>9</td>\n",
       "      <td>2</td>\n",
       "      <td>1.0</td>\n",
       "      <td>4</td>\n",
       "      <td>1</td>\n",
       "    </tr>\n",
       "    <tr>\n",
       "      <th>1</th>\n",
       "      <td>1</td>\n",
       "      <td>North</td>\n",
       "      <td>SalesSupport</td>\n",
       "      <td>11:00 AM</td>\n",
       "      <td>Incoming</td>\n",
       "      <td>A</td>\n",
       "      <td>Cam</td>\n",
       "      <td>NO</td>\n",
       "      <td>0</td>\n",
       "      <td>0</td>\n",
       "      <td>11</td>\n",
       "      <td>1</td>\n",
       "      <td>1.0</td>\n",
       "      <td>3</td>\n",
       "      <td>1</td>\n",
       "    </tr>\n",
       "    <tr>\n",
       "      <th>2</th>\n",
       "      <td>2</td>\n",
       "      <td>North</td>\n",
       "      <td>SalesSupport</td>\n",
       "      <td>11:00 AM</td>\n",
       "      <td>Incoming</td>\n",
       "      <td>B</td>\n",
       "      <td>Todd</td>\n",
       "      <td>NO</td>\n",
       "      <td>0</td>\n",
       "      <td>0</td>\n",
       "      <td>9</td>\n",
       "      <td>3</td>\n",
       "      <td>1.0</td>\n",
       "      <td>3</td>\n",
       "      <td>1</td>\n",
       "    </tr>\n",
       "    <tr>\n",
       "      <th>3</th>\n",
       "      <td>3</td>\n",
       "      <td>North</td>\n",
       "      <td>SalesSupport</td>\n",
       "      <td>4:00 PM</td>\n",
       "      <td>Incoming</td>\n",
       "      <td>B</td>\n",
       "      <td>Brent</td>\n",
       "      <td>NO</td>\n",
       "      <td>0</td>\n",
       "      <td>0</td>\n",
       "      <td>11</td>\n",
       "      <td>2</td>\n",
       "      <td>1.0</td>\n",
       "      <td>4</td>\n",
       "      <td>1</td>\n",
       "    </tr>\n",
       "    <tr>\n",
       "      <th>4</th>\n",
       "      <td>4</td>\n",
       "      <td>North</td>\n",
       "      <td>ProductSupport</td>\n",
       "      <td>12:00 PM</td>\n",
       "      <td>Incoming</td>\n",
       "      <td>B</td>\n",
       "      <td>Brent</td>\n",
       "      <td>NO</td>\n",
       "      <td>0</td>\n",
       "      <td>0</td>\n",
       "      <td>8</td>\n",
       "      <td>2</td>\n",
       "      <td>1.0</td>\n",
       "      <td>4</td>\n",
       "      <td>1</td>\n",
       "    </tr>\n",
       "  </tbody>\n",
       "</table>\n",
       "</div>"
      ],
      "text/plain": [
       "   Unnamed: 0 Branch    Call Purpose Time Block Incoming or Outgoing Queue  \\\n",
       "0           0  North       Complaint    9:00 AM             Incoming     B   \n",
       "1           1  North    SalesSupport   11:00 AM             Incoming     A   \n",
       "2           2  North    SalesSupport   11:00 AM             Incoming     B   \n",
       "3           3  North    SalesSupport    4:00 PM             Incoming     B   \n",
       "4           4  North  ProductSupport   12:00 PM             Incoming     B   \n",
       "\n",
       "  Rep ID Sale  Lost Call  Abandoned  Busy Minutes  Not Ready Minutes  \\\n",
       "0  Brent   NO          0          1             9                  2   \n",
       "1    Cam   NO          0          0            11                  1   \n",
       "2   Todd   NO          0          0             9                  3   \n",
       "3  Brent   NO          0          0            11                  2   \n",
       "4  Brent   NO          0          0             8                  2   \n",
       "\n",
       "   Incoming Wait Time  During Call Wait Time  Calls  \n",
       "0                 1.0                      4      1  \n",
       "1                 1.0                      3      1  \n",
       "2                 1.0                      3      1  \n",
       "3                 1.0                      4      1  \n",
       "4                 1.0                      4      1  "
      ]
     },
     "execution_count": 27,
     "metadata": {},
     "output_type": "execute_result"
    }
   ],
   "source": [
    "# I'm removing all the spaces in these 2 columns that I just reviewed. \n",
    "# Again, perhaps it's not something that matters, but when i'm looking a the data, it helps me to see it without the spaces.\n",
    "\n",
    "north_df['Call Purpose'] = north_df['Call Purpose'].str.replace(' ', '', regex=False)\n",
    "\n",
    "north_df.head()"
   ]
  },
  {
   "cell_type": "code",
   "execution_count": 28,
   "id": "407fbc84-6723-4e72-bff7-e8d77bdd4a4b",
   "metadata": {},
   "outputs": [
    {
     "data": {
      "text/html": [
       "<div>\n",
       "<style scoped>\n",
       "    .dataframe tbody tr th:only-of-type {\n",
       "        vertical-align: middle;\n",
       "    }\n",
       "\n",
       "    .dataframe tbody tr th {\n",
       "        vertical-align: top;\n",
       "    }\n",
       "\n",
       "    .dataframe thead th {\n",
       "        text-align: right;\n",
       "    }\n",
       "</style>\n",
       "<table border=\"1\" class=\"dataframe\">\n",
       "  <thead>\n",
       "    <tr style=\"text-align: right;\">\n",
       "      <th></th>\n",
       "      <th>Unnamed: 0</th>\n",
       "      <th>Branch</th>\n",
       "      <th>Call Purpose</th>\n",
       "      <th>Time Block</th>\n",
       "      <th>Incoming or Outgoing</th>\n",
       "      <th>Queue</th>\n",
       "      <th>Rep ID</th>\n",
       "      <th>Sale</th>\n",
       "      <th>Lost Call</th>\n",
       "      <th>Abandoned</th>\n",
       "      <th>Busy Minutes</th>\n",
       "      <th>Not Ready Minutes</th>\n",
       "      <th>Incoming Wait Time</th>\n",
       "      <th>During Call Wait Time</th>\n",
       "      <th>Calls</th>\n",
       "    </tr>\n",
       "  </thead>\n",
       "  <tbody>\n",
       "    <tr>\n",
       "      <th>0</th>\n",
       "      <td>0</td>\n",
       "      <td>North</td>\n",
       "      <td>Complaint</td>\n",
       "      <td>9:00AM</td>\n",
       "      <td>Incoming</td>\n",
       "      <td>B</td>\n",
       "      <td>Brent</td>\n",
       "      <td>NO</td>\n",
       "      <td>0</td>\n",
       "      <td>1</td>\n",
       "      <td>9</td>\n",
       "      <td>2</td>\n",
       "      <td>1.0</td>\n",
       "      <td>4</td>\n",
       "      <td>1</td>\n",
       "    </tr>\n",
       "    <tr>\n",
       "      <th>1</th>\n",
       "      <td>1</td>\n",
       "      <td>North</td>\n",
       "      <td>SalesSupport</td>\n",
       "      <td>11:00AM</td>\n",
       "      <td>Incoming</td>\n",
       "      <td>A</td>\n",
       "      <td>Cam</td>\n",
       "      <td>NO</td>\n",
       "      <td>0</td>\n",
       "      <td>0</td>\n",
       "      <td>11</td>\n",
       "      <td>1</td>\n",
       "      <td>1.0</td>\n",
       "      <td>3</td>\n",
       "      <td>1</td>\n",
       "    </tr>\n",
       "    <tr>\n",
       "      <th>2</th>\n",
       "      <td>2</td>\n",
       "      <td>North</td>\n",
       "      <td>SalesSupport</td>\n",
       "      <td>11:00AM</td>\n",
       "      <td>Incoming</td>\n",
       "      <td>B</td>\n",
       "      <td>Todd</td>\n",
       "      <td>NO</td>\n",
       "      <td>0</td>\n",
       "      <td>0</td>\n",
       "      <td>9</td>\n",
       "      <td>3</td>\n",
       "      <td>1.0</td>\n",
       "      <td>3</td>\n",
       "      <td>1</td>\n",
       "    </tr>\n",
       "    <tr>\n",
       "      <th>3</th>\n",
       "      <td>3</td>\n",
       "      <td>North</td>\n",
       "      <td>SalesSupport</td>\n",
       "      <td>4:00PM</td>\n",
       "      <td>Incoming</td>\n",
       "      <td>B</td>\n",
       "      <td>Brent</td>\n",
       "      <td>NO</td>\n",
       "      <td>0</td>\n",
       "      <td>0</td>\n",
       "      <td>11</td>\n",
       "      <td>2</td>\n",
       "      <td>1.0</td>\n",
       "      <td>4</td>\n",
       "      <td>1</td>\n",
       "    </tr>\n",
       "    <tr>\n",
       "      <th>4</th>\n",
       "      <td>4</td>\n",
       "      <td>North</td>\n",
       "      <td>ProductSupport</td>\n",
       "      <td>12:00PM</td>\n",
       "      <td>Incoming</td>\n",
       "      <td>B</td>\n",
       "      <td>Brent</td>\n",
       "      <td>NO</td>\n",
       "      <td>0</td>\n",
       "      <td>0</td>\n",
       "      <td>8</td>\n",
       "      <td>2</td>\n",
       "      <td>1.0</td>\n",
       "      <td>4</td>\n",
       "      <td>1</td>\n",
       "    </tr>\n",
       "  </tbody>\n",
       "</table>\n",
       "</div>"
      ],
      "text/plain": [
       "   Unnamed: 0 Branch    Call Purpose Time Block Incoming or Outgoing Queue  \\\n",
       "0           0  North       Complaint     9:00AM             Incoming     B   \n",
       "1           1  North    SalesSupport    11:00AM             Incoming     A   \n",
       "2           2  North    SalesSupport    11:00AM             Incoming     B   \n",
       "3           3  North    SalesSupport     4:00PM             Incoming     B   \n",
       "4           4  North  ProductSupport    12:00PM             Incoming     B   \n",
       "\n",
       "  Rep ID Sale  Lost Call  Abandoned  Busy Minutes  Not Ready Minutes  \\\n",
       "0  Brent   NO          0          1             9                  2   \n",
       "1    Cam   NO          0          0            11                  1   \n",
       "2   Todd   NO          0          0             9                  3   \n",
       "3  Brent   NO          0          0            11                  2   \n",
       "4  Brent   NO          0          0             8                  2   \n",
       "\n",
       "   Incoming Wait Time  During Call Wait Time  Calls  \n",
       "0                 1.0                      4      1  \n",
       "1                 1.0                      3      1  \n",
       "2                 1.0                      3      1  \n",
       "3                 1.0                      4      1  \n",
       "4                 1.0                      4      1  "
      ]
     },
     "execution_count": 28,
     "metadata": {},
     "output_type": "execute_result"
    }
   ],
   "source": [
    "# I'm removing all the spaces in these 2 columns that I just reviewed. \n",
    "# Again, perhaps it's not something that matters, but when i'm looking a the data, it helps me to see it without the spaces.\n",
    "\n",
    "north_df['Time Block'] = north_df['Time Block'].str.replace(' ', '', regex=False)\n",
    "\n",
    "north_df.head()"
   ]
  },
  {
   "cell_type": "code",
   "execution_count": 29,
   "id": "0de2e70d-dd59-4902-b93b-8c879315c584",
   "metadata": {},
   "outputs": [
    {
     "data": {
      "text/html": [
       "<div>\n",
       "<style scoped>\n",
       "    .dataframe tbody tr th:only-of-type {\n",
       "        vertical-align: middle;\n",
       "    }\n",
       "\n",
       "    .dataframe tbody tr th {\n",
       "        vertical-align: top;\n",
       "    }\n",
       "\n",
       "    .dataframe thead th {\n",
       "        text-align: right;\n",
       "    }\n",
       "</style>\n",
       "<table border=\"1\" class=\"dataframe\">\n",
       "  <thead>\n",
       "    <tr style=\"text-align: right;\">\n",
       "      <th></th>\n",
       "      <th>Unnamed: 0</th>\n",
       "      <th>Branch</th>\n",
       "      <th>Call Purpose</th>\n",
       "      <th>Time Block</th>\n",
       "      <th>Incoming or Outgoing</th>\n",
       "      <th>Queue</th>\n",
       "      <th>Rep ID</th>\n",
       "      <th>Sale</th>\n",
       "      <th>Lost Call</th>\n",
       "      <th>Abandoned</th>\n",
       "      <th>Busy Minutes</th>\n",
       "      <th>Not Ready Minutes</th>\n",
       "      <th>Incoming Wait Time</th>\n",
       "      <th>During Call Wait Time</th>\n",
       "      <th>Calls</th>\n",
       "    </tr>\n",
       "  </thead>\n",
       "  <tbody>\n",
       "    <tr>\n",
       "      <th>0</th>\n",
       "      <td>0</td>\n",
       "      <td>South</td>\n",
       "      <td>SalesSupport</td>\n",
       "      <td>10:00 AM</td>\n",
       "      <td>Incoming</td>\n",
       "      <td>D</td>\n",
       "      <td>Kate</td>\n",
       "      <td>NO</td>\n",
       "      <td>0</td>\n",
       "      <td>0</td>\n",
       "      <td>9</td>\n",
       "      <td>1</td>\n",
       "      <td>1.0</td>\n",
       "      <td>2</td>\n",
       "      <td>1</td>\n",
       "    </tr>\n",
       "    <tr>\n",
       "      <th>1</th>\n",
       "      <td>1</td>\n",
       "      <td>South</td>\n",
       "      <td>SalesSupport</td>\n",
       "      <td>10:00 AM</td>\n",
       "      <td>Incoming</td>\n",
       "      <td>C</td>\n",
       "      <td>Eric</td>\n",
       "      <td>NO</td>\n",
       "      <td>0</td>\n",
       "      <td>0</td>\n",
       "      <td>8</td>\n",
       "      <td>2</td>\n",
       "      <td>1.0</td>\n",
       "      <td>4</td>\n",
       "      <td>1</td>\n",
       "    </tr>\n",
       "    <tr>\n",
       "      <th>2</th>\n",
       "      <td>2</td>\n",
       "      <td>South</td>\n",
       "      <td>SalesSupport</td>\n",
       "      <td>10:00 AM</td>\n",
       "      <td>Incoming</td>\n",
       "      <td>C</td>\n",
       "      <td>Susan</td>\n",
       "      <td>NO</td>\n",
       "      <td>0</td>\n",
       "      <td>0</td>\n",
       "      <td>10</td>\n",
       "      <td>2</td>\n",
       "      <td>1.0</td>\n",
       "      <td>4</td>\n",
       "      <td>1</td>\n",
       "    </tr>\n",
       "    <tr>\n",
       "      <th>3</th>\n",
       "      <td>3</td>\n",
       "      <td>South</td>\n",
       "      <td>SalesSupport</td>\n",
       "      <td>10:00 AM</td>\n",
       "      <td>Incoming</td>\n",
       "      <td>C</td>\n",
       "      <td>Alice</td>\n",
       "      <td>NO</td>\n",
       "      <td>0</td>\n",
       "      <td>0</td>\n",
       "      <td>12</td>\n",
       "      <td>1</td>\n",
       "      <td>1.0</td>\n",
       "      <td>3</td>\n",
       "      <td>1</td>\n",
       "    </tr>\n",
       "    <tr>\n",
       "      <th>4</th>\n",
       "      <td>4</td>\n",
       "      <td>South</td>\n",
       "      <td>SalesSupport</td>\n",
       "      <td>12:00 PM</td>\n",
       "      <td>Incoming</td>\n",
       "      <td>C</td>\n",
       "      <td>Sandy</td>\n",
       "      <td>NO</td>\n",
       "      <td>0</td>\n",
       "      <td>0</td>\n",
       "      <td>8</td>\n",
       "      <td>3</td>\n",
       "      <td>1.0</td>\n",
       "      <td>3</td>\n",
       "      <td>1</td>\n",
       "    </tr>\n",
       "  </tbody>\n",
       "</table>\n",
       "</div>"
      ],
      "text/plain": [
       "   Unnamed: 0 Branch  Call Purpose Time Block Incoming or Outgoing Queue  \\\n",
       "0           0  South  SalesSupport   10:00 AM             Incoming     D   \n",
       "1           1  South  SalesSupport   10:00 AM             Incoming     C   \n",
       "2           2  South  SalesSupport   10:00 AM             Incoming     C   \n",
       "3           3  South  SalesSupport   10:00 AM             Incoming     C   \n",
       "4           4  South  SalesSupport   12:00 PM             Incoming     C   \n",
       "\n",
       "  Rep ID Sale  Lost Call  Abandoned  Busy Minutes  Not Ready Minutes  \\\n",
       "0   Kate   NO          0          0             9                  1   \n",
       "1   Eric   NO          0          0             8                  2   \n",
       "2  Susan   NO          0          0            10                  2   \n",
       "3  Alice   NO          0          0            12                  1   \n",
       "4  Sandy   NO          0          0             8                  3   \n",
       "\n",
       "   Incoming Wait Time  During Call Wait Time  Calls  \n",
       "0                 1.0                      2      1  \n",
       "1                 1.0                      4      1  \n",
       "2                 1.0                      4      1  \n",
       "3                 1.0                      3      1  \n",
       "4                 1.0                      3      1  "
      ]
     },
     "execution_count": 29,
     "metadata": {},
     "output_type": "execute_result"
    }
   ],
   "source": [
    "# I'm removing all the spaces in these 2 columns that I just reviewed. \n",
    "# Again, perhaps it's not something that matters, but when i'm looking a the data, it helps me to see it without the spaces.\n",
    "\n",
    "south_df['Call Purpose'] = south_df['Call Purpose'].str.replace(' ', '', regex=False)\n",
    "\n",
    "south_df.head()"
   ]
  },
  {
   "cell_type": "code",
   "execution_count": 30,
   "id": "335493dc-0f2f-49c6-b80b-d4534f304400",
   "metadata": {},
   "outputs": [
    {
     "data": {
      "text/html": [
       "<div>\n",
       "<style scoped>\n",
       "    .dataframe tbody tr th:only-of-type {\n",
       "        vertical-align: middle;\n",
       "    }\n",
       "\n",
       "    .dataframe tbody tr th {\n",
       "        vertical-align: top;\n",
       "    }\n",
       "\n",
       "    .dataframe thead th {\n",
       "        text-align: right;\n",
       "    }\n",
       "</style>\n",
       "<table border=\"1\" class=\"dataframe\">\n",
       "  <thead>\n",
       "    <tr style=\"text-align: right;\">\n",
       "      <th></th>\n",
       "      <th>Unnamed: 0</th>\n",
       "      <th>Branch</th>\n",
       "      <th>Call Purpose</th>\n",
       "      <th>Time Block</th>\n",
       "      <th>Incoming or Outgoing</th>\n",
       "      <th>Queue</th>\n",
       "      <th>Rep ID</th>\n",
       "      <th>Sale</th>\n",
       "      <th>Lost Call</th>\n",
       "      <th>Abandoned</th>\n",
       "      <th>Busy Minutes</th>\n",
       "      <th>Not Ready Minutes</th>\n",
       "      <th>Incoming Wait Time</th>\n",
       "      <th>During Call Wait Time</th>\n",
       "      <th>Calls</th>\n",
       "    </tr>\n",
       "  </thead>\n",
       "  <tbody>\n",
       "    <tr>\n",
       "      <th>0</th>\n",
       "      <td>0</td>\n",
       "      <td>South</td>\n",
       "      <td>SalesSupport</td>\n",
       "      <td>10:00AM</td>\n",
       "      <td>Incoming</td>\n",
       "      <td>D</td>\n",
       "      <td>Kate</td>\n",
       "      <td>NO</td>\n",
       "      <td>0</td>\n",
       "      <td>0</td>\n",
       "      <td>9</td>\n",
       "      <td>1</td>\n",
       "      <td>1.0</td>\n",
       "      <td>2</td>\n",
       "      <td>1</td>\n",
       "    </tr>\n",
       "    <tr>\n",
       "      <th>1</th>\n",
       "      <td>1</td>\n",
       "      <td>South</td>\n",
       "      <td>SalesSupport</td>\n",
       "      <td>10:00AM</td>\n",
       "      <td>Incoming</td>\n",
       "      <td>C</td>\n",
       "      <td>Eric</td>\n",
       "      <td>NO</td>\n",
       "      <td>0</td>\n",
       "      <td>0</td>\n",
       "      <td>8</td>\n",
       "      <td>2</td>\n",
       "      <td>1.0</td>\n",
       "      <td>4</td>\n",
       "      <td>1</td>\n",
       "    </tr>\n",
       "    <tr>\n",
       "      <th>2</th>\n",
       "      <td>2</td>\n",
       "      <td>South</td>\n",
       "      <td>SalesSupport</td>\n",
       "      <td>10:00AM</td>\n",
       "      <td>Incoming</td>\n",
       "      <td>C</td>\n",
       "      <td>Susan</td>\n",
       "      <td>NO</td>\n",
       "      <td>0</td>\n",
       "      <td>0</td>\n",
       "      <td>10</td>\n",
       "      <td>2</td>\n",
       "      <td>1.0</td>\n",
       "      <td>4</td>\n",
       "      <td>1</td>\n",
       "    </tr>\n",
       "    <tr>\n",
       "      <th>3</th>\n",
       "      <td>3</td>\n",
       "      <td>South</td>\n",
       "      <td>SalesSupport</td>\n",
       "      <td>10:00AM</td>\n",
       "      <td>Incoming</td>\n",
       "      <td>C</td>\n",
       "      <td>Alice</td>\n",
       "      <td>NO</td>\n",
       "      <td>0</td>\n",
       "      <td>0</td>\n",
       "      <td>12</td>\n",
       "      <td>1</td>\n",
       "      <td>1.0</td>\n",
       "      <td>3</td>\n",
       "      <td>1</td>\n",
       "    </tr>\n",
       "    <tr>\n",
       "      <th>4</th>\n",
       "      <td>4</td>\n",
       "      <td>South</td>\n",
       "      <td>SalesSupport</td>\n",
       "      <td>12:00PM</td>\n",
       "      <td>Incoming</td>\n",
       "      <td>C</td>\n",
       "      <td>Sandy</td>\n",
       "      <td>NO</td>\n",
       "      <td>0</td>\n",
       "      <td>0</td>\n",
       "      <td>8</td>\n",
       "      <td>3</td>\n",
       "      <td>1.0</td>\n",
       "      <td>3</td>\n",
       "      <td>1</td>\n",
       "    </tr>\n",
       "  </tbody>\n",
       "</table>\n",
       "</div>"
      ],
      "text/plain": [
       "   Unnamed: 0 Branch  Call Purpose Time Block Incoming or Outgoing Queue  \\\n",
       "0           0  South  SalesSupport    10:00AM             Incoming     D   \n",
       "1           1  South  SalesSupport    10:00AM             Incoming     C   \n",
       "2           2  South  SalesSupport    10:00AM             Incoming     C   \n",
       "3           3  South  SalesSupport    10:00AM             Incoming     C   \n",
       "4           4  South  SalesSupport    12:00PM             Incoming     C   \n",
       "\n",
       "  Rep ID Sale  Lost Call  Abandoned  Busy Minutes  Not Ready Minutes  \\\n",
       "0   Kate   NO          0          0             9                  1   \n",
       "1   Eric   NO          0          0             8                  2   \n",
       "2  Susan   NO          0          0            10                  2   \n",
       "3  Alice   NO          0          0            12                  1   \n",
       "4  Sandy   NO          0          0             8                  3   \n",
       "\n",
       "   Incoming Wait Time  During Call Wait Time  Calls  \n",
       "0                 1.0                      2      1  \n",
       "1                 1.0                      4      1  \n",
       "2                 1.0                      4      1  \n",
       "3                 1.0                      3      1  \n",
       "4                 1.0                      3      1  "
      ]
     },
     "execution_count": 30,
     "metadata": {},
     "output_type": "execute_result"
    }
   ],
   "source": [
    "# I'm removing all the spaces in these 2 columns that I just reviewed. \n",
    "# Again, perhaps it's not something that matters, but when i'm looking a the data, it helps me to see it without the spaces.\n",
    "\n",
    "south_df['Time Block'] = south_df['Time Block'].str.replace(' ', '', regex=False)\n",
    "\n",
    "south_df.head()"
   ]
  },
  {
   "cell_type": "markdown",
   "id": "c3564d69",
   "metadata": {},
   "source": [
    "#### Cleaning Question 1:  Is there any missing data and if yes explain what you would do with the missing data and why?"
   ]
  },
  {
   "cell_type": "code",
   "execution_count": 31,
   "id": "b77fb574",
   "metadata": {},
   "outputs": [
    {
     "name": "stdout",
     "output_type": "stream",
     "text": [
      "Unnamed: 0                 0\n",
      "Branch                     0\n",
      "Call Purpose               0\n",
      "Time Block                 0\n",
      "Incoming or Outgoing       0\n",
      "Queue                      0\n",
      "Rep ID                     0\n",
      "Sale                       0\n",
      "Lost Call                  0\n",
      "Abandoned                  0\n",
      "Busy Minutes               0\n",
      "Not Ready Minutes          0\n",
      "Incoming Wait Time       163\n",
      "During Call Wait Time      0\n",
      "Calls                      0\n",
      "dtype: int64\n"
     ]
    }
   ],
   "source": [
    "# Question 1 solution below\n",
    "# checked each column for null values as a quick and easy overview-- this was the north data. \n",
    "null_counts = north_df.isnull().sum()\n",
    "print(null_counts)"
   ]
  },
  {
   "cell_type": "code",
   "execution_count": 32,
   "id": "95100bdc-691f-4fe6-b88a-b63410a90a93",
   "metadata": {},
   "outputs": [
    {
     "name": "stdout",
     "output_type": "stream",
     "text": [
      "Unnamed: 0                 0\n",
      "Branch                     0\n",
      "Call Purpose               0\n",
      "Time Block                 0\n",
      "Incoming or Outgoing       0\n",
      "Queue                      0\n",
      "Rep ID                     0\n",
      "Sale                       0\n",
      "Lost Call                  0\n",
      "Abandoned                  0\n",
      "Busy Minutes               0\n",
      "Not Ready Minutes          0\n",
      "Incoming Wait Time       188\n",
      "During Call Wait Time      0\n",
      "Calls                      0\n",
      "dtype: int64\n"
     ]
    }
   ],
   "source": [
    "null_counts = south_df.isnull().sum()\n",
    "print(null_counts)"
   ]
  },
  {
   "cell_type": "code",
   "execution_count": 33,
   "id": "668c4e7b-897b-4557-9065-576ed9efa28a",
   "metadata": {},
   "outputs": [
    {
     "name": "stdout",
     "output_type": "stream",
     "text": [
      "     Unnamed: 0 Branch    Call Purpose Time Block Incoming or Outgoing Queue  \\\n",
      "82           82  North    SalesSupport    10:00AM             Outgoing     A   \n",
      "83           83  North    SalesSupport    10:00AM             Outgoing     B   \n",
      "84           84  North    SalesSupport    11:00AM             Outgoing     B   \n",
      "85           85  North  ProductSupport     9:00AM             Outgoing     B   \n",
      "86           86  North    SalesSupport    10:00AM             Outgoing     B   \n",
      "..          ...    ...             ...        ...                  ...   ...   \n",
      "240         240  North  ProductSupport     5:00PM             Outgoing     B   \n",
      "241         241  North  ProductSupport     5:00PM             Outgoing     A   \n",
      "242         242  North  ProductSupport     5:00PM             Outgoing     A   \n",
      "243         243  North  ProductSupport     5:00PM             Outgoing     A   \n",
      "244         244  North  ProductSupport     5:00PM             Outgoing     B   \n",
      "\n",
      "     Rep ID Sale  Lost Call  Abandoned  Busy Minutes  Not Ready Minutes  \\\n",
      "82      Cam   NO          1          0             8                  1   \n",
      "83     Duke   NO          1          0            10                  2   \n",
      "84   Xander   NO          1          0            10                  1   \n",
      "85     Duke   NO          1          0            12                  1   \n",
      "86    Lilly  YES          0          1             9                  3   \n",
      "..      ...  ...        ...        ...           ...                ...   \n",
      "240   Brent   NO          0          0            10                  2   \n",
      "241     Joe   NO          0          0             8                  3   \n",
      "242  Amanda   NO          0          0            12                  1   \n",
      "243     Cam   NO          0          0            11                  2   \n",
      "244  Xander   NO          0          0             8                  1   \n",
      "\n",
      "     Incoming Wait Time  During Call Wait Time  Calls  \n",
      "82                  NaN                      2      1  \n",
      "83                  NaN                      4      1  \n",
      "84                  NaN                      4      1  \n",
      "85                  NaN                      2      1  \n",
      "86                  NaN                      4      1  \n",
      "..                  ...                    ...    ...  \n",
      "240                 NaN                      3      1  \n",
      "241                 NaN                      2      1  \n",
      "242                 NaN                      2      1  \n",
      "243                 NaN                      2      1  \n",
      "244                 NaN                      4      1  \n",
      "\n",
      "[163 rows x 15 columns]\n"
     ]
    }
   ],
   "source": [
    "missing_data_rows = north_df[north_df.isnull().any(axis=1)]\n",
    "print(missing_data_rows)"
   ]
  },
  {
   "cell_type": "markdown",
   "id": "0dc5c568-40db-4889-b82b-64610d8058d2",
   "metadata": {},
   "source": [
    "#### Record your answer below:\n",
    "\n",
    "> Your Answer: The only missing data was in the \"incoming wait times,\" but the data type for each of those was in seconds and the data type on that column in both data sets is \"float.\" I can't replace that with 0 because incoming wait time is an important factor in the overal permfomance of the centers, so I can leave it as NaN or change it to a different keyword, but I can't make it any kind of number at the risk of it affecting future calculations. I also can't delete those rows because other data was collected from the calls each of them represent. I'm going to leave it alone and will have to make sure I'm not attempting to calculate \"nulls\" with the incoming wait times for the rest of this project. If I had access to someone with the information, I would check to see if those should be reporulated with \"0\" as that is my instinct for why the cell is empty--there was no incoming wait time recorded because the call was picked up immediately. "
   ]
  },
  {
   "cell_type": "markdown",
   "id": "dc47f020",
   "metadata": {},
   "source": [
    "#### Cleaning Question 2:  In the North data set, there are two separate \"YES\" values for a sale. Why and how did you rectify the issue?"
   ]
  },
  {
   "cell_type": "code",
   "execution_count": 34,
   "id": "4e0fbad6",
   "metadata": {},
   "outputs": [
    {
     "name": "stdout",
     "output_type": "stream",
     "text": [
      "['NO' 'YES']\n"
     ]
    }
   ],
   "source": [
    "# Cleaning Question 2 solution below:\n",
    "# yes = north_df['Sale'].unique()\n",
    "# print(yes)\n",
    "\n",
    "north_df['Sale'] = north_df['Sale'].str.rstrip()\n",
    "yes = north_df['Sale'].unique()\n",
    "print(yes)\n"
   ]
  },
  {
   "cell_type": "markdown",
   "id": "cf81b612-eb6b-45a6-ac8e-d6f4e08131a8",
   "metadata": {},
   "source": [
    "##### Record your answer by below:\n",
    "> Your Answer: I don't think I need to rectify this because the sales column is going to be delted as unneccessary data in Q4 of this part. However, in the interest of practice, I would recitfy it so that my analysis would return proper yes or no information if I needed to return results about the sales. Since some of the \"yes\" entries have a trailing space according to the .unique function return, I would strip that trailing space away and have to reassign the values back to the database within that same column so that it replaces the incorrect data.  "
   ]
  },
  {
   "cell_type": "markdown",
   "id": "715f375a",
   "metadata": {},
   "source": [
    "#### Cleaning Question 3:  Are there duplicates in the two data sets? If there are, how did you handle them?"
   ]
  },
  {
   "cell_type": "code",
   "execution_count": 35,
   "id": "2323673a",
   "metadata": {},
   "outputs": [
    {
     "name": "stdout",
     "output_type": "stream",
     "text": [
      "Empty DataFrame\n",
      "Columns: [Unnamed: 0, Branch, Call Purpose, Time Block, Incoming or Outgoing, Queue, Rep ID, Sale, Lost Call, Abandoned, Busy Minutes, Not Ready Minutes, Incoming Wait Time, During Call Wait Time, Calls]\n",
      "Index: []\n"
     ]
    }
   ],
   "source": [
    "# Cleaning Question 3 solution below:\n",
    "\n",
    "north_dupes = north_df[north_df.duplicated(keep=False)]\n",
    "\n",
    "print(north_dupes)\n"
   ]
  },
  {
   "cell_type": "code",
   "execution_count": 36,
   "id": "129dfb16-e82c-4695-9d0f-3b763cb24e9f",
   "metadata": {},
   "outputs": [
    {
     "name": "stdout",
     "output_type": "stream",
     "text": [
      "Empty DataFrame\n",
      "Columns: [Unnamed: 0, Branch, Call Purpose, Time Block, Incoming or Outgoing, Queue, Rep ID, Sale, Lost Call, Abandoned, Busy Minutes, Not Ready Minutes, Incoming Wait Time, During Call Wait Time, Calls]\n",
      "Index: []\n"
     ]
    }
   ],
   "source": [
    "# Cleaning Question 3 solution below:\n",
    "\n",
    "south_dupes = south_df[south_df.duplicated(keep=False)]\n",
    "\n",
    "print(south_dupes)\n"
   ]
  },
  {
   "cell_type": "markdown",
   "id": "4fbfe2e8-490a-48dc-b0ca-599879076c62",
   "metadata": {},
   "source": [
    "##### Record your answer below:\n",
    "> Your Answer:\n",
    "> North Call center had no duplicated rows.\n",
    "> South Call Center had no duplicated rows.\n",
    "> "
   ]
  },
  {
   "cell_type": "markdown",
   "id": "8ffaa865",
   "metadata": {},
   "source": [
    "#### Cleaning Question 4:  Is any of the data in the two data sets unnecessary? If yes, how did you handle it?"
   ]
  },
  {
   "cell_type": "code",
   "execution_count": 37,
   "id": "78b45e70",
   "metadata": {},
   "outputs": [],
   "source": [
    "# Cleaning Question 4 solution below:\n",
    "\n",
    "north_clean = north_df.drop(['Sale','Lost Call'], axis=1) \n",
    "south_clean = south_df.drop(['Sale','Lost Call'], axis=1) \n",
    "\n",
    "# north_clean.shape\n",
    "# south_clean.shape\n"
   ]
  },
  {
   "cell_type": "markdown",
   "id": "689e76b9-64d2-45d7-883a-b8c4d822e0c8",
   "metadata": {},
   "source": [
    "##### Record your answer below:\n",
    "> Your Answer: Yes. The columns for 'Sale' and 'Lost call' are unneccessary because they are not used in any of the data manipulation or visualization for the rest of the project. Since the purpose of this is to evaluate the efficiency of the employees taking calls and managing their call queue, whether a sale occured is irrelevant, and the lost call column indicates technical issues that are outside of the representative's control as a reason for a call to end. I dropped both of the columns that are not required for any of the remanining analysis or visualization using .drop\n",
    "> I did spot-check against the CSV file to see what some of the data with \"lost call\" indicators looks like for the reamining rows, and there is data there indicating that the rep had some interaction with the client sometimes, so I didn't delete any rows that had a 1 in the \"Lost call\" column. Since we are looking at efficiency of how much time customers are spending waiting for contact, if there is data logged in those cells, I didn't want to elminate that from the overall, since we can't know what the official cause of the \"lost call\" was and the options offered in the description were either a lost call/lost connection or an issue of capacity for the call center.\n",
    ">\n",
    "> I confirmed with .shape that the columns were gone. "
   ]
  },
  {
   "cell_type": "markdown",
   "id": "73342a9a",
   "metadata": {},
   "source": [
    "## Task 3: Data Manipulation\n",
    "Before you begin answering any questions, combine the two datasets together to create a third dataframe called df. You can use this third dataframe to compare the two call centers to company-wide trends.\n",
    "* Add additional code blocks as needed to show how you came to your conclusions. Add comments in your code blocks to help others understand your thinking. Record your answer below."
   ]
  },
  {
   "cell_type": "code",
   "execution_count": 38,
   "id": "e9705c34",
   "metadata": {
    "scrolled": true
   },
   "outputs": [
    {
     "data": {
      "text/plain": [
       "(559, 13)"
      ]
     },
     "execution_count": 38,
     "metadata": {},
     "output_type": "execute_result"
    }
   ],
   "source": [
    "# Create dataframe for the entire company named df\n",
    "# I used concat because all of the columns have the same keys(headers) and datatypes, so there didn't seem to be a reason to complicate how I was joining this data. \n",
    "# concat resulted in the expected total number of rows! \n",
    "df = pd.concat([north_clean, south_clean], axis=0)\n",
    "\n",
    "df.shape\n"
   ]
  },
  {
   "cell_type": "code",
   "execution_count": 39,
   "id": "e1a9127b-c07a-467e-9097-2ae790b012fe",
   "metadata": {},
   "outputs": [],
   "source": [
    "df['Rep ID Branch'] = df['Rep ID']\n"
   ]
  },
  {
   "cell_type": "code",
   "execution_count": 40,
   "id": "b5a71db1-0287-42d9-b608-ed846df37d2f",
   "metadata": {},
   "outputs": [
    {
     "name": "stdout",
     "output_type": "stream",
     "text": [
      "     Unnamed: 0 Branch    Call Purpose Time Block Incoming or Outgoing Queue  \\\n",
      "0             0  North       Complaint     9:00AM             Incoming     B   \n",
      "1             1  North    SalesSupport    11:00AM             Incoming     A   \n",
      "2             2  North    SalesSupport    11:00AM             Incoming     B   \n",
      "3             3  North    SalesSupport     4:00PM             Incoming     B   \n",
      "4             4  North  ProductSupport    12:00PM             Incoming     B   \n",
      "..          ...    ...             ...        ...                  ...   ...   \n",
      "309         309  South  ProductSupport     5:00PM             Outgoing     D   \n",
      "310         310  South  ProductSupport     5:00PM             Outgoing     C   \n",
      "311         311  South  ProductSupport     5:00PM             Outgoing     C   \n",
      "312         312  South  ProductSupport     5:00PM             Outgoing     C   \n",
      "313         313  South  ProductSupport     5:00PM             Outgoing     D   \n",
      "\n",
      "     Rep ID  Abandoned  Busy Minutes  Not Ready Minutes  Incoming Wait Time  \\\n",
      "0     Brent          1             9                  2                 1.0   \n",
      "1       Cam          0            11                  1                 1.0   \n",
      "2      Todd          0             9                  3                 1.0   \n",
      "3     Brent          0            11                  2                 1.0   \n",
      "4     Brent          0             8                  2                 1.0   \n",
      "..      ...        ...           ...                ...                 ...   \n",
      "309   Helga          0            10                  3                 NaN   \n",
      "310   Susan          0            12                  3                 NaN   \n",
      "311   Sandy          0             9                  3                 NaN   \n",
      "312    Eric          0            10                  1                 NaN   \n",
      "313  George          0            10                  2                 NaN   \n",
      "\n",
      "     During Call Wait Time  Calls Rep ID Branch  \n",
      "0                        4      1       N_Brent  \n",
      "1                        3      1         N_Cam  \n",
      "2                        3      1        N_Todd  \n",
      "3                        4      1       N_Brent  \n",
      "4                        4      1       N_Brent  \n",
      "..                     ...    ...           ...  \n",
      "309                      4      1       S_Helga  \n",
      "310                      4      1       S_Susan  \n",
      "311                      4      1       S_Sandy  \n",
      "312                      2      1        S_Eric  \n",
      "313                      3      1      S_George  \n",
      "\n",
      "[559 rows x 14 columns]\n"
     ]
    }
   ],
   "source": [
    "# I added a new column by duplicating the names of the reps and then added an N or S depending on their branch affiliation. \n",
    "# It seemed like it might be helpful to have that option for some of the later maniapulations. \n",
    "replacements = {'Brent': 'N_Brent', 'Cam': 'N_Cam',   'Todd':'N_Todd',   'Duke':'N_Duke', 'Joe':'N_Joe',  'Lilly':'N_Lilly', 'Amanda':'N_Amanda',\n",
    "   'Andy': 'N_Andy', 'Xander':'N_Xander',   'Kate':'S_Kate',   'Eric':'S_Eric',  'Susan':'S_Susan',  'Alice':'S_Alice',  'Sandy':'S_Sandy',\n",
    "   'Karl':'S_Karl',  'Randy':'S_Randy', 'George':'S_George',  'Helga':'S_Helga',   'Josh':'S_Josh', 'Sharon':'S_Sharon'}\n",
    "\n",
    "df['Rep ID Branch'] = df['Rep ID Branch'].replace(replacements)\n",
    "print(df)"
   ]
  },
  {
   "cell_type": "markdown",
   "id": "7e87dfd1",
   "metadata": {},
   "source": [
    "#### Manipulation Question 1:  Group by Rep ID and sum the resulting structure. Sort by calls to determine which rep in each branch has the highest number of calls."
   ]
  },
  {
   "cell_type": "code",
   "execution_count": 41,
   "id": "3953f09a",
   "metadata": {},
   "outputs": [
    {
     "name": "stdout",
     "output_type": "stream",
     "text": [
      "                                            Rep ID Branch  Calls\n",
      "Rep ID                                                          \n",
      "Brent   N_BrentN_BrentN_BrentN_BrentN_BrentN_BrentN_Br...     37\n",
      "Eric    S_EricS_EricS_EricS_EricS_EricS_EricS_EricS_Er...     35\n",
      "Randy   S_RandyS_RandyS_RandyS_RandyS_RandyS_RandyS_Ra...     33\n",
      "Sandy   S_SandyS_SandyS_SandyS_SandyS_SandyS_SandyS_Sa...     32\n",
      "Helga   S_HelgaS_HelgaS_HelgaS_HelgaS_HelgaS_HelgaS_He...     31\n",
      "Lilly   N_LillyN_LillyN_LillyN_LillyN_LillyN_LillyN_Li...     30\n",
      "George  S_GeorgeS_GeorgeS_GeorgeS_GeorgeS_GeorgeS_Geor...     29\n",
      "Kate    S_KateS_KateS_KateS_KateS_KateS_KateS_KateS_Ka...     29\n",
      "Todd    N_ToddN_ToddN_ToddN_ToddN_ToddN_ToddN_ToddN_To...     29\n",
      "Duke    N_DukeN_DukeN_DukeN_DukeN_DukeN_DukeN_DukeN_Du...     29\n",
      "Karl    S_KarlS_KarlS_KarlS_KarlS_KarlS_KarlS_KarlS_Ka...     28\n",
      "Joe     N_JoeN_JoeN_JoeN_JoeN_JoeN_JoeN_JoeN_JoeN_JoeN...     26\n",
      "Susan   S_SusanS_SusanS_SusanS_SusanS_SusanS_SusanS_Su...     26\n",
      "Josh    S_JoshS_JoshS_JoshS_JoshS_JoshS_JoshS_JoshS_Jo...     26\n",
      "Sharon  S_SharonS_SharonS_SharonS_SharonS_SharonS_Shar...     25\n",
      "Cam     N_CamN_CamN_CamN_CamN_CamN_CamN_CamN_CamN_CamN...     24\n",
      "Xander  N_XanderN_XanderN_XanderN_XanderN_XanderN_Xand...     24\n",
      "Amanda  N_AmandaN_AmandaN_AmandaN_AmandaN_AmandaN_Aman...     23\n",
      "Andy    N_AndyN_AndyN_AndyN_AndyN_AndyN_AndyN_AndyN_An...     23\n",
      "Alice   S_AliceS_AliceS_AliceS_AliceS_AliceS_AliceS_Al...     20\n"
     ]
    }
   ],
   "source": [
    "# Manipulation Question solution below:\n",
    "# First, I'm going to check that there are unique rep ids between the 2 branches. \n",
    "# rep_ID = df['Rep ID'].unique()\n",
    "# print(rep_ID)\n",
    "# Output: [ 'Brent',    'Cam',   'Todd',   'Duke',    'Joe',  'Lilly', 'Amanda',\n",
    "#    'Andy', 'Xander',   'Kate',   'Eric',  'Susan',  'Alice',  'Sandy',\n",
    "#    'Karl',  'Randy', 'George',  'Helga',   'Josh', 'Sharon']\n",
    "# 20 unique Rep IDs (9 north & 11 south), so no concerns about that in the newly concatenated large dataframe! \n",
    "\n",
    "reps = df.groupby('Rep ID')[['Rep ID Branch', 'Calls']].sum().sort_values(by='Calls', ascending=False)\n",
    "# groups the reps by their ID. Only viewing 2 columns of information. Chained sum to get the call totals\n",
    "print(reps)"
   ]
  },
  {
   "cell_type": "markdown",
   "id": "7c29838c-1402-4e4b-94c9-050515d8dd18",
   "metadata": {},
   "source": [
    "##### Record your answer below\n",
    "Rep with the hightest number of calls and their total calls:\n",
    "- North Branch = Brent, 37\n",
    "- South Branch = Eric, 35"
   ]
  },
  {
   "cell_type": "markdown",
   "id": "809293b9",
   "metadata": {},
   "source": [
    "#### Manipulation Question 2:  The average call abandonment rate is a KPI when it comes to determining call center efficiency. As you may recall, abandoned calls are calls where the customer hangs up due to long call times. What is the average call abandonment rate for each branch and the whole company? Do any of these fall out of the optimal range of 2-5%?"
   ]
  },
  {
   "cell_type": "code",
   "execution_count": 42,
   "id": "3dff7534",
   "metadata": {},
   "outputs": [
    {
     "name": "stdout",
     "output_type": "stream",
     "text": [
      "1.97\n"
     ]
    }
   ],
   "source": [
    "# Manipulation Question 2 solution below:\n",
    "# for the full company number, use mean to get to the average of the Abandoned column\n",
    "avg_abandoned_all = df['Abandoned'].mean()\n",
    "\n",
    "# to get it to print and round like a percentage, multiple and use the round method within the print function\n",
    "print(round((avg_abandoned_all*100),2))"
   ]
  },
  {
   "cell_type": "code",
   "execution_count": 43,
   "id": "c1685c6b-7691-46d7-9113-db4e97b24f9d",
   "metadata": {},
   "outputs": [
    {
     "name": "stdout",
     "output_type": "stream",
     "text": [
      "2.86\n"
     ]
    }
   ],
   "source": [
    "# for the north number, use mean to get to the average of the Abandoned column\n",
    "\n",
    "avg_abandoned_north = north_clean['Abandoned'].mean()\n",
    "\n",
    "# to get it to print and round like a percentage, multiple and use the round method within the print function\n",
    "print(round((avg_abandoned_north*100),2))"
   ]
  },
  {
   "cell_type": "code",
   "execution_count": 44,
   "id": "cad06704-3aa2-4443-a314-4bdd83e2bfad",
   "metadata": {},
   "outputs": [
    {
     "name": "stdout",
     "output_type": "stream",
     "text": [
      "1.27\n"
     ]
    }
   ],
   "source": [
    "# for the south number, use mean to get to the average of the Abandoned column\n",
    "avg_abandoned_south = south_clean['Abandoned'].mean()\n",
    "\n",
    "# to get it to print and round like a percentage, multiple and use the round method within the print function\n",
    "print(round((avg_abandoned_south*100),2))"
   ]
  },
  {
   "cell_type": "markdown",
   "id": "c284596f-218f-4291-81b6-718ea5671feb",
   "metadata": {},
   "source": [
    "##### Record your answer below:\n",
    "Average Call Abandonment Rates (round to the nearest hundredth):\n",
    "- North Branch = 2.86%\n",
    "- South Branch = 1.27%\n",
    "- Company Wide = 1.97%\n",
    "- Do any of these fall out of the optimal range of 2-5%? Yes, South & Company-wide are both below 2%. "
   ]
  },
  {
   "cell_type": "markdown",
   "id": "598bb1bf",
   "metadata": {},
   "source": [
    "#### Manipulation Question 3:  Service level is another KPI when it comes to measuring call center efficiency. Service level is the percentage of calls answered within a specific number of seconds. In the case of your employer, their ideal time frame is 2 seconds. What is the percentage of calls answered within 2 seconds for each branch and the entire company?"
   ]
  },
  {
   "cell_type": "code",
   "execution_count": 45,
   "id": "6f27fab5-69a2-4b1c-b008-a711bad92768",
   "metadata": {},
   "outputs": [
    {
     "data": {
      "text/plain": [
       "Index(['Unnamed: 0', 'Branch', 'Call Purpose', 'Time Block',\n",
       "       'Incoming or Outgoing', 'Queue', 'Rep ID', 'Abandoned', 'Busy Minutes',\n",
       "       'Not Ready Minutes', 'Incoming Wait Time', 'During Call Wait Time',\n",
       "       'Calls', 'Rep ID Branch'],\n",
       "      dtype='object')"
      ]
     },
     "execution_count": 45,
     "metadata": {},
     "output_type": "execute_result"
    }
   ],
   "source": [
    "df.columns"
   ]
  },
  {
   "cell_type": "code",
   "execution_count": 46,
   "id": "2fc8f669",
   "metadata": {},
   "outputs": [
    {
     "name": "stdout",
     "output_type": "stream",
     "text": [
      "company has  81  of  208  calls meeting KPI.\n",
      "38.94230769230769\n"
     ]
    }
   ],
   "source": [
    "# Manipulation Question 3 solution below:\n",
    "# get the total number of calls the come in withing the ideal time frame of 2.0 seconds\n",
    "company_sl = (df['Incoming Wait Time'].dropna() <= 2.0).sum()\n",
    "\n",
    "# get the total number of calls based on what's been tracked from the incoming calls column (it had a lot of NaN entries that shouldn't be included in the total)\n",
    "company_inc = (df['Incoming Wait Time'].notnull()).sum()\n",
    "\n",
    "print(\"company has \", company_sl, \" of \", company_inc, \" calls meeting KPI.\")\n",
    "\n",
    "print(company_sl/company_inc*100)   \n",
    "    \n",
    "\n",
    "\n",
    "# avg_abandoned_south = south_clean['Abandoned'].mean()"
   ]
  },
  {
   "cell_type": "code",
   "execution_count": 47,
   "id": "02b52380-a185-42fd-9969-add135d51661",
   "metadata": {},
   "outputs": [
    {
     "name": "stdout",
     "output_type": "stream",
     "text": [
      "north branch has  33  of  82  calls meeting KPI.\n",
      "40.243902439024396\n"
     ]
    }
   ],
   "source": [
    "# Manipulation Question 3 solution below:\n",
    "# get the total number of calls the come in withing the ideal time frame of 2.0 seconds\n",
    "north_sl = (north_clean['Incoming Wait Time'].dropna() <= 2.0).sum()\n",
    "\n",
    "# get the total number of calls based on what's been tracked from the incoming calls column (it had a lot of NaN entries that shouldn't be included in the total)\n",
    "north_inc = (north_clean['Incoming Wait Time'].notnull()).sum()\n",
    "\n",
    "print(\"north branch has \", north_sl, \" of \", north_inc, \" calls meeting KPI.\")\n",
    "\n",
    "print(north_sl/north_inc*100)   \n",
    "    \n",
    "\n",
    "\n",
    "# avg_abandoned_south = south_clean['Abandoned'].mean()"
   ]
  },
  {
   "cell_type": "code",
   "execution_count": 48,
   "id": "008a01c9-928b-4006-8d65-9fa0490bdabf",
   "metadata": {},
   "outputs": [
    {
     "name": "stdout",
     "output_type": "stream",
     "text": [
      "south branch has  48  of  126  calls meeting KPI.\n",
      "38.095238095238095\n"
     ]
    }
   ],
   "source": [
    "# Manipulation Question 3 solution below:\n",
    "# get the total number of calls the come in withing the ideal time frame of 2.0 seconds\n",
    "south_sl = (south_clean['Incoming Wait Time'].dropna() <= 2.0).sum()\n",
    "\n",
    "# get the total number of calls based on what's been tracked from the incoming calls column (it had a lot of NaN entries that shouldn't be included in the total)\n",
    "south_inc = (south_clean['Incoming Wait Time'].notnull()).sum()\n",
    "\n",
    "print(\"south branch has \", south_sl, \" of \", south_inc, \" calls meeting KPI.\")\n",
    "\n",
    "print(south_sl/south_inc*100)   \n",
    "    \n"
   ]
  },
  {
   "cell_type": "markdown",
   "id": "e3a4c9d9-4e11-4e1f-859a-d2c919f7d9ce",
   "metadata": {},
   "source": [
    "##### Record your answer below:\n",
    "Percentage of calls answered within 2 seconds, include # of calls:\n",
    "- North Branch = 40.24% and 33 calls\n",
    "- South Branch = 38.10% and 48 calls\n",
    "- Company Wide = 38.94% and 81 calls"
   ]
  },
  {
   "cell_type": "markdown",
   "id": "7e19e705",
   "metadata": {},
   "source": [
    "#### Manipulation Question 4: For each branch and the entire company, what is the average speed of answer?"
   ]
  },
  {
   "cell_type": "code",
   "execution_count": 49,
   "id": "72a653ed",
   "metadata": {},
   "outputs": [
    {
     "name": "stdout",
     "output_type": "stream",
     "text": [
      "3.019230769230769\n"
     ]
    }
   ],
   "source": [
    "# Manipulation Question 4 solution below:\n",
    "#make sure null values are not included, and calcualted the mean of the answered calls\n",
    "company_avg_ans = df['Incoming Wait Time'].dropna().mean()\n",
    "\n",
    "print(company_avg_ans)\n"
   ]
  },
  {
   "cell_type": "code",
   "execution_count": 50,
   "id": "2229cf73-d15a-4b6f-b6d6-d8d4d7fb58a4",
   "metadata": {},
   "outputs": [
    {
     "name": "stdout",
     "output_type": "stream",
     "text": [
      "3.048780487804878\n"
     ]
    }
   ],
   "source": [
    "# Manipulation Question 4 solution below:\n",
    "#make sure null values are not included, and calcualted the mean of the answered calls\n",
    "north_avg_ans = north_clean['Incoming Wait Time'].dropna().mean()\n",
    "\n",
    "print(north_avg_ans)\n"
   ]
  },
  {
   "cell_type": "code",
   "execution_count": 51,
   "id": "e785cb4f-9be4-4f59-99a3-9a530bf02eee",
   "metadata": {},
   "outputs": [
    {
     "name": "stdout",
     "output_type": "stream",
     "text": [
      "3.0\n"
     ]
    }
   ],
   "source": [
    "# Manipulation Question 4 solution below:\n",
    "#make sure null values are not included, and calcualted the mean of the answered calls\n",
    "south_avg_ans = south_clean['Incoming Wait Time'].dropna().mean()\n",
    "\n",
    "print(south_avg_ans)\n"
   ]
  },
  {
   "cell_type": "markdown",
   "id": "1525c564-8808-4f14-b463-e8b8aa60a08c",
   "metadata": {},
   "source": [
    "##### Record your answer by below:\n",
    "Average speed of answer (rounded to nearest hundredth):\n",
    "- North Branch in seconds = 3.05\n",
    "- South Branch in seconds = 3.0\n",
    "- Company Wide in seconds = 3.02"
   ]
  },
  {
   "cell_type": "markdown",
   "id": "d5f50a40",
   "metadata": {},
   "source": [
    "## Task 4: Visualization\n",
    "\n",
    "Create a visualization for each of the following questions. Some of the code to handle aggregating and storing data may be written for you. For each visualization, you choose the chart style that you feel suits the situation best. Make note of the chart style you chose and why. \n",
    "\n",
    "*NOTE Some questions you may decide to use more than one chart and or chart style."
   ]
  },
  {
   "cell_type": "markdown",
   "id": "66ccf83c",
   "metadata": {},
   "source": [
    "#### Visualization 1:  What is the average abandonment rate per queue?"
   ]
  },
  {
   "cell_type": "code",
   "execution_count": 58,
   "id": "c971d779",
   "metadata": {},
   "outputs": [
    {
     "data": {
      "text/plain": [
       "Text(0, 0.5, 'Abandonment Rate %')"
      ]
     },
     "execution_count": 58,
     "metadata": {},
     "output_type": "execute_result"
    },
    {
     "data": {
      "image/png": "[encoded data removed]",
      "text/plain": [
       "<Figure size 640x480 with 1 Axes>"
      ]
     },
     "metadata": {},
     "output_type": "display_data"
    }
   ],
   "source": [
    "# Create visualization 1 here\n",
    "# Import any additional libraries needed with alias\n",
    "import seaborn as sb\n",
    "import matplotlib.pyplot as plt\n",
    "from matplotlib import style\n",
    "\n",
    "# The dictionary abandonment_rates has the data you need.\n",
    "# ran the code as is and pandas returned an error about using the [i] and the need to use .iloc, so I looked that up and made the adjustments below:\n",
    "abandonment_rates = {}\n",
    "queues = [\"A\", \"B\", \"C\", \"D\"]\n",
    "queue_dict = df.groupby(\"Queue\").agg({\"Abandoned\":\"sum\", \"Calls\":\"sum\"}).reset_index()\n",
    "for i in range(4):\n",
    "    abandonment_rates[queues[i]] = (queue_dict[\"Abandoned\"].iloc[i] / queue_dict[\"Calls\"].iloc[i])*100\n",
    "#multiplied by 100 so the numbers would be a percentage because they weren't making sense in the chart as decimals. \n",
    "\n",
    "#Your code below:\n",
    "df_abandonment = pd.DataFrame(list(abandonment_rates.items()), columns=['Queue', 'Abandonment Rate'])\n",
    "\n",
    "plt.bar(df_abandonment['Queue'], df_abandonment['Abandonment Rate'])\n",
    "\n",
    "plt.title('Average Abandonment Rate per Queue')\n",
    "plt.xlabel('Queue')\n",
    "plt.ylabel('Abandonment Rate %')\n",
    "\n",
    "\n"
   ]
  },
  {
   "cell_type": "markdown",
   "id": "00a821e7-b296-4950-8889-dacf36ef37fb",
   "metadata": {},
   "source": [
    "##### Record your answer below:\n",
    "\n",
    "The average abandonment rate per queue is:\n",
    "A - just over 4.0%\n",
    "B - 2.0%\n",
    "C - just over .5%\n",
    "D - just over 1.5%\n",
    "\n",
    "> Chart style you chose and why: Bar charts are a comparison option, and with only 4 queues, this is not a vizualisation that will get too complicated for someone else to read. "
   ]
  },
  {
   "cell_type": "markdown",
   "id": "4a9fc77f",
   "metadata": {},
   "source": [
    "#### Visualization 2: What is the service level percentage and average speed of answer for each rep in the North Branch?"
   ]
  },
  {
   "cell_type": "code",
   "execution_count": 53,
   "id": "61f65a7f",
   "metadata": {},
   "outputs": [
    {
     "data": {
      "text/plain": [
       "Text(0, 0.5, 'Service Level %, average speed of answering incoming calls')"
      ]
     },
     "execution_count": 53,
     "metadata": {},
     "output_type": "execute_result"
    },
    {
     "data": {
      "image/png": "[encoded data removed]",
      "text/plain": [
       "<Figure size 640x480 with 1 Axes>"
      ]
     },
     "metadata": {},
     "output_type": "display_data"
    }
   ],
   "source": [
    "# Create visualization 2 here\n",
    "# north_plt contains the data you need for the average speed of answer of each rep\n",
    "\n",
    "north_plt = north_clean.groupby(\"Rep ID\")[\"Incoming Wait Time\"].mean().to_frame().reset_index()\n",
    "\n",
    "# Finding each Rep's Personal Service Level Percentage.  Basically, Calls within 2 secs / total calls\n",
    "\n",
    "# Table 1: Total Incoming calls less than 2 seconds grouped by Rep\n",
    "quick_calls = north_clean[north_clean[\"Incoming Wait Time\"] <= 2.0]\n",
    "quick_reps = quick_calls[[\"Rep ID\", \"Calls\"]]\n",
    "quick_stats = quick_reps.groupby([\"Rep ID\"]).sum()  # Final Table\n",
    "\n",
    "\n",
    "# Table 2: Total Incoming Calls Only grouped by Rep\n",
    "total_calls_in = north_clean[north_clean[\"Incoming or Outgoing\"] == \"Incoming\"]\n",
    "rep_calls = total_calls_in[[\"Rep ID\", \"Calls\"]]     \n",
    "total_stats = rep_calls.groupby([\"Rep ID\"]).sum() # Final Table  \n",
    "\n",
    "#  Table 3: Service Level Percentage created via merge\n",
    "service_level = pd.merge(quick_stats, total_stats, on=\"Rep ID\")\n",
    "\n",
    "# Create Percentage Column in Table 3\n",
    "service_level[\"Service Level %\"] = service_level[\"Calls_x\"]/service_level[\"Calls_y\"] * 100\n",
    "\n",
    "# north_plt & service_level are each dataframes that have the info for this viz\n",
    "#Your Code Here:\n",
    "# created a new dataframe in order to try to plot them both on one chart, but ended up not actually setting them up that way. Left the new df because it still worked for my purpose. \n",
    "df_stats_service = pd.merge(north_plt, service_level, on='Rep ID', how=\"inner\")\n",
    "\n",
    "plt.bar(df_stats_service['Rep ID'], df_stats_service['Service Level %'], label='%', color='orange')\n",
    "\n",
    "plt.title('Service Level Percentage per North Branch Representative')\n",
    "plt.xlabel('Rep ID')\n",
    "plt.ylabel('Service Level %, average speed of answering incoming calls')\n",
    "\n",
    "# df_stats_service.head()  #My new dataframe showed the columns all in one new table as intended!\n"
   ]
  },
  {
   "cell_type": "code",
   "execution_count": 54,
   "id": "e271411c-39cb-466a-9885-0f5f3f1240d2",
   "metadata": {},
   "outputs": [
    {
     "data": {
      "text/plain": [
       "Text(0, 0.5, 'Incoming Wait Time (in seconds)')"
      ]
     },
     "execution_count": 54,
     "metadata": {},
     "output_type": "execute_result"
    },
    {
     "data": {
      "image/png": "[encoded data removed]",
      "text/plain": [
       "<Figure size 640x480 with 1 Axes>"
      ]
     },
     "metadata": {},
     "output_type": "display_data"
    }
   ],
   "source": [
    "plt.bar(df_stats_service['Rep ID'], df_stats_service['Incoming Wait Time'], label='seconds')\n",
    "\n",
    "plt.title('Average Speed of Answer per North Branch Representative')\n",
    "plt.xlabel('Rep ID')\n",
    "plt.ylabel('Incoming Wait Time (in seconds)')"
   ]
  },
  {
   "cell_type": "markdown",
   "id": "4d4cad4d-f9fb-4927-8a45-4b5cd17edd3a",
   "metadata": {},
   "source": [
    "##### Record your answer below:\n",
    "> Amanda: speed = under 2.5, service = 60%\n",
    "> Andy: speed = over 3.5,  service = 30%\n",
    "> Brent: speed = over 2.0, service = 70%\n",
    "> Cam: speed = under 3.0, service = 47%\n",
    "> Duke: speed = over 2.5, service = 42%\n",
    "> Joe: speed = over 3.5, service = 20%\n",
    "> Lilly: speed = 3.0, service = 34%\n",
    "> Todd: speed = 3.5, service = 34%\n",
    "> Xander: speed = under 3.5, service = 34%  \n",
    "> Chart style you chose and why:\n",
    "> I split this into 2 charts because, even though the key as Rep ID is the same, I didn't like the way the scale of the percentage vs the seconds looked on one combined chart. I attempted combining a bar and a line in case that helped, but I don't think it made it much clearer.   "
   ]
  },
  {
   "cell_type": "markdown",
   "id": "f965e41a",
   "metadata": {},
   "source": [
    "#### Visualization 3: For each type of call purpose, how many calls are outgoing vs. incoming?"
   ]
  },
  {
   "cell_type": "code",
   "execution_count": 55,
   "id": "44096730",
   "metadata": {},
   "outputs": [
    {
     "name": "stdout",
     "output_type": "stream",
     "text": [
      "Call Purpose    Incoming or Outgoing\n",
      "Complaint       Incoming                 51\n",
      "ProductSupport  Outgoing                228\n",
      "                Incoming                 82\n",
      "SalesSupport    Outgoing                123\n",
      "                Incoming                 75\n",
      "Name: count, dtype: int64\n"
     ]
    },
    {
     "data": {
      "image/png": "[encoded data removed]",
      "text/plain": [
       "<Figure size 1200x700 with 1 Axes>"
      ]
     },
     "metadata": {},
     "output_type": "display_data"
    }
   ],
   "source": [
    "# Create visualization 3 here:\n",
    "# The three dictionaries, complaints, sales_support, and product_support, have the information you need\n",
    "\n",
    "purpose_group = df.groupby(\"Call Purpose\")\n",
    "call_purpose = [\"Complaint\", \"ProductSupport\", \"SalesSupport\"]\n",
    "purpose_counts = purpose_group[\"Incoming or Outgoing\"].value_counts()\n",
    "print(purpose_counts)\n",
    "\n",
    "complaints = purpose_counts[\"Complaint\"].to_dict()\n",
    "sales_support = purpose_counts[\"SalesSupport\"].to_dict()\n",
    "product_support = purpose_counts[\"ProductSupport\"].to_dict()\n",
    "\n",
    "#Your Code Here:\n",
    "# just creating a pivot table didn't work, so I had to regroup the dataframe and reset the index in order for the chart to identify the right values. \n",
    "purpose_counts = df.groupby([\"Call Purpose\", \"Incoming or Outgoing\"]).size().reset_index(name='Counts')\n",
    "\n",
    "df_pivot = purpose_counts.pivot_table(index='Call Purpose', columns='Incoming or Outgoing', values='Counts', aggfunc='sum', fill_value=0)\n",
    "\n",
    "# Plotting the multiple bar chart\n",
    "df_pivot.plot(kind='bar', figsize=(12, 7))\n",
    "\n",
    "# Add labels and title\n",
    "plt.xlabel('Call Purpose')\n",
    "plt.ylabel('Purpose Counts')\n",
    "plt.title('Outgoing vs Incoming Totals per Purpose')\n",
    "\n",
    "# Display the plot\n",
    "plt.xticks(rotation=45)\n",
    "plt.show()\n",
    "\n",
    "\n"
   ]
  },
  {
   "cell_type": "markdown",
   "id": "9198bbe4-44ef-4e21-bd40-6ace8e9f7694",
   "metadata": {},
   "source": [
    "##### Record your answer below:\n",
    ">Call purpose and count of incoming or outgoing. \n",
    ">Complaint\n",
    ">>Outgoing - 0\n",
    ">>Incoming - 51\n",
    ">ProductSupport\n",
    ">>Outgoing - 228\n",
    ">>Incoming - 82\n",
    ">SalesSupport\n",
    ">>Outgoing - 123\n",
    ">>Incoming - 75\n",
    ">\n",
    "\n",
    "> Chart style you chose and why:\n",
    "> The grouped bar chart showed a nice comparison between the incoming and outgoing numbers. Since the overall range between totals wassn't extreme, it makes it easy to interpret the amounts and really highlights the differences. "
   ]
  },
  {
   "cell_type": "markdown",
   "id": "ea7ed568",
   "metadata": {},
   "source": [
    "## Task 5: Summarize Your Work\n",
    "\n",
    "With what you know now about the two call centers and the entire company, answer the following questions. Note that while this is subjective, you should include relevant data to back up your opinion.\n"
   ]
  },
  {
   "cell_type": "markdown",
   "id": "d2fc3d13",
   "metadata": {},
   "source": [
    "#### Summary Question 1:  Using KPIs such as average abandonment rate, service level and average speed of answer, in your opinion, which one of the two branches is operating more efficiently? Why?\n",
    "\n",
    "##### Record your answer below:\n",
    "> Your Answer:\n",
    "> North branch average abandoment rate is 2.86%\n",
    "> South branch average abandonment rate is 1.27%\n",
    "> \n",
    "> North branch service level is 40.24%\n",
    "> South branch service level is 38.10%\n",
    "> \n",
    "> North average speed of answer is 3.05 seconds\n",
    "> South average speed of answer 3.0 seconds\n",
    ">\n",
    "> Based on the information above, the only category that the South Branch is behind in is service level, but it's just over 2% difference. The Branches are very close in all three KPIs, but the abandonment rate being significantly lower does indicate a high level of efficiency in the South Branch operations, even though under 2% is almost seen as \"too efficient\". South is operating more efficiently based on these numbers.  \n",
    "> \n",
    "> \n",
    "\n"
   ]
  },
  {
   "cell_type": "markdown",
   "id": "489f28d6",
   "metadata": {},
   "source": [
    "#### Summary Question 2: Based on the number of reps in each branch and how quickly the reps are working, in your opinion, which branch would benefit from the extra help?\n",
    "\n",
    "##### Record your answer below:\n",
    "> Your Answer:\n",
    "> Reps in North branch, 9 with 245 calls logged during this sample\n",
    "> Reps in South branch, 11 with 314 calls logged during this sample\n",
    ">\n",
    "> The North branch is operating less efficiently and has less reps, so it seems like the branch that would most benefit from additoinal help. The South Branch reps are taking more calls and beating the North branch in 2 out of the 3 KPIs that the call center company is focused on for efficieny at this time. \n"
   ]
  },
  {
   "cell_type": "markdown",
   "id": "0b10a8c3",
   "metadata": {},
   "source": [
    "#### Summary Question 3: Now that you have explored the datasets, is there any data or information that you wish you had in this analysis?\n",
    "\n",
    "##### Record your answer below:\n",
    "> Your Answer: I would have liked to know the specific reason behind each of the lost calls. One option was that it was a technical errror, but the other possible reason given was the the call queue was at capacity. What does that mean exactly? If the North branch was at capacity and therefore the \"lost call\" number was higher, that would be valuable information to know versus an uncontrollable technical difficulty outside of the queue capacity. \n",
    ">Other than that data, it would just be interesting to dig in to more of the ways the different rep's stats worked out--looking at the reps during the time blocks would be something to consider. There was a higher overall volume of calls in the 12 o'clock hour--analyze who is taking those calls. Additonally, seeing if there is any correlation between the lenth of calls and call purpose might give useful information, particularly in this case of which branch needs more reps. And analyzing which reps are taking which types of calls. If someone is on more complaint calls, is that taking more time or less time than other calls? That's information that could be discovered by what's available within the collected data, so it would be fun to dig into that and see if the stakeholders have an interest in what can be discovered about the reps and the call purpose and how that ties into efficinecy overall. \n",
    "> \n"
   ]
  },
  {
   "cell_type": "markdown",
   "id": "ce16f43d",
   "metadata": {
    "jp-MarkdownHeadingCollapsed": true
   },
   "source": [
    "## Bonus Mission\n",
    "Create a visualization that answers this question: For each call purpose, how many calls (incoming and outgoing) take place in each time block?\n",
    "##### Record your answer below:\n",
    "\n",
    "> Chart style you chose and why: "
   ]
  },
  {
   "cell_type": "code",
   "execution_count": 56,
   "id": "71b04f32",
   "metadata": {},
   "outputs": [],
   "source": [
    "# Create your Bonus Mission visualization here!\n",
    "call_times = df[[\"Time Block\", \"Call Purpose\", \"Incoming or Outgoing\", \"Calls\"]]\n",
    "\n",
    "# Use groupby to plot based on time blocks:\n",
    "\n",
    "# Use groupby and get_group to select which call purpose to plot:"
   ]
  }
 ],
 "metadata": {
  "kernelspec": {
   "display_name": "Python 3 (ipykernel)",
   "language": "python",
   "name": "python3"
  },
  "language_info": {
   "codemirror_mode": {
    "name": "ipython",
    "version": 3
   },
   "file_extension": ".py",
   "mimetype": "text/x-python",
   "name": "python",
   "nbconvert_exporter": "python",
   "pygments_lexer": "ipython3",
   "version": "3.12.5"
  }
 },
 "nbformat": 4,
 "nbformat_minor": 5
}
